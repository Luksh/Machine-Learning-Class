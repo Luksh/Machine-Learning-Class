{
 "cells": [
  {
   "cell_type": "code",
   "execution_count": 1,
   "id": "ea69852e-0f5c-487e-98fc-07eb87a517a8",
   "metadata": {},
   "outputs": [
    {
     "name": "stdout",
     "output_type": "stream",
     "text": [
      "Welcome! Today's date and time is: 2024-05-13 14:34:59.064531\n"
     ]
    }
   ],
   "source": [
    "import datetime\n",
    "print(\"Welcome! Today's date and time is:\", datetime.datetime.now())"
   ]
  },
  {
   "cell_type": "code",
   "execution_count": 2,
   "id": "e61d8f2e-de1f-4df1-ac3b-6f13dedde4b2",
   "metadata": {},
   "outputs": [
    {
     "name": "stdout",
     "output_type": "stream",
     "text": [
      "1\n",
      "2\n",
      "3\n",
      "4\n",
      "5\n",
      "6\n",
      "7\n",
      "8\n",
      "9\n",
      "10\n"
     ]
    }
   ],
   "source": [
    "for i in range(1, 11):\n",
    "    print(i)"
   ]
  },
  {
   "cell_type": "code",
   "execution_count": 3,
   "id": "ac6cce4e-6add-4ed3-8bcd-2c1bdb2f6cef",
   "metadata": {},
   "outputs": [
    {
     "name": "stdout",
     "output_type": "stream",
     "text": [
      "10\n",
      "10.0\n"
     ]
    }
   ],
   "source": [
    "str_num = \"10\"\n",
    "int_num = int(str_num)\n",
    "float_num = float(str_num)\n",
    "print(int_num)\n",
    "print(float_num)"
   ]
  },
  {
   "cell_type": "code",
   "execution_count": 4,
   "id": "f28dd58a-38eb-4d72-9b33-85d8265a501d",
   "metadata": {},
   "outputs": [
    {
     "name": "stdout",
     "output_type": "stream",
     "text": [
      "123\n"
     ]
    }
   ],
   "source": [
    "int_value = 123\n",
    "str_value = str(int_value)\n",
    "print(str_value)"
   ]
  },
  {
   "cell_type": "code",
   "execution_count": 6,
   "id": "b66c387f-8ed3-4654-99e3-9f4bc1af77bd",
   "metadata": {},
   "outputs": [
    {
     "name": "stdout",
     "output_type": "stream",
     "text": [
      "8\n"
     ]
    }
   ],
   "source": [
    "import math\n",
    "\n",
    "# Arithmetic operations\n",
    "result_add = 5 + 3\n",
    "result_sub = 7 - 2\n",
    "result_mul = 4 * 6\n",
    "result_div = 10 / 2\n",
    "print(result_add)"
   ]
  },
  {
   "cell_type": "code",
   "execution_count": 7,
   "id": "aeb210dc-a212-4990-ab8e-b545b768876e",
   "metadata": {},
   "outputs": [
    {
     "name": "stdout",
     "output_type": "stream",
     "text": [
      "5.0\n"
     ]
    }
   ],
   "source": [
    "sqrt_value = math.sqrt(25)\n",
    "print(sqrt_value)"
   ]
  },
  {
   "cell_type": "code",
   "execution_count": 8,
   "id": "61a84527-8bc6-42e8-9bf1-4a929784c097",
   "metadata": {},
   "outputs": [
    {
     "name": "stdout",
     "output_type": "stream",
     "text": [
      "Natural logarithm of 10 : 2.302585092994046\n"
     ]
    }
   ],
   "source": [
    "# Calculate the natural logarithm (base e) of a number\n",
    "x = 10\n",
    "log_value = math.log(x)\n",
    "print(\"Natural logarithm of\", x, \":\", log_value)"
   ]
  },
  {
   "cell_type": "code",
   "execution_count": 9,
   "id": "ba92cc29-8dd3-43eb-b94c-d9faf4ae7fa8",
   "metadata": {},
   "outputs": [
    {
     "name": "stdout",
     "output_type": "stream",
     "text": [
      "Logarithm base 10 of 10 : 1.0\n"
     ]
    }
   ],
   "source": [
    "# Calculate the logarithm of a number with a specified base (e.g., base 10)\n",
    "log_base_10 = math.log10(x)\n",
    "print(\"Logarithm base 10 of\", x, \":\", log_base_10)"
   ]
  },
  {
   "cell_type": "code",
   "execution_count": 10,
   "id": "dccf060f-c0e3-4845-983a-4816d0183eef",
   "metadata": {},
   "outputs": [
    {
     "name": "stdout",
     "output_type": "stream",
     "text": [
      "Sine of 45 degrees: 0.7071067811865476\n",
      "Cosine of 45 degrees: 0.7071067811865476\n",
      "Tangent of 45 degrees: 0.9999999999999999\n"
     ]
    }
   ],
   "source": [
    "# Calculate trigonometric functions (sine, cosine, tangent) in radians\n",
    "angle_radians = math.radians(45)  # Convert angle from degrees to radians\n",
    "sin_value = math.sin(angle_radians)\n",
    "cos_value = math.cos(angle_radians)\n",
    "tan_value = math.tan(angle_radians)\n",
    "print(\"Sine of 45 degrees:\", sin_value)\n",
    "print(\"Cosine of 45 degrees:\", cos_value)\n",
    "print(\"Tangent of 45 degrees:\", tan_value)"
   ]
  },
  {
   "cell_type": "code",
   "execution_count": 4,
   "id": "e7a91443-f803-4749-a5f3-9954db50cc7e",
   "metadata": {},
   "outputs": [
    {
     "name": "stdout",
     "output_type": "stream",
     "text": [
      "is\n"
     ]
    }
   ],
   "source": [
    "# Extract a substring from a given string.\n",
    "sentence = \"This is a sentence.\"\n",
    "substring = sentence[5:7]\n",
    "print(substring)"
   ]
  },
  {
   "cell_type": "code",
   "execution_count": 7,
   "id": "60f6bb37-7903-4a39-9018-bf095350d7f3",
   "metadata": {},
   "outputs": [
    {
     "name": "stdout",
     "output_type": "stream",
     "text": [
      "HELLO\n",
      "world\n"
     ]
    }
   ],
   "source": [
    "# Convert a string to uppercase or lowercase.\n",
    "uppercase_str = \"hello\".upper()\n",
    "lowercase_str = \"WORLD\".lower()\n",
    "print(uppercase_str)\n",
    "print(lowercase_str)"
   ]
  },
  {
   "cell_type": "code",
   "execution_count": 12,
   "id": "84125730-4c9b-4947-ba83-a6daedbb1ff6",
   "metadata": {},
   "outputs": [
    {
     "name": "stdout",
     "output_type": "stream",
     "text": [
      "494\n",
      "54.888888888888886\n",
      "4\n",
      "56\n"
     ]
    }
   ],
   "source": [
    "numbers = [23, 45, 12, 67, 89, 34, 56, 78, 90]\n",
    "\n",
    "# Calculate the sum of the elements\n",
    "sum_of_numbers = sum(numbers)\n",
    "print(sum_of_numbers)\n",
    "\n",
    "# Calculate the mean (average) of the elements\n",
    "mean_of_numbers = sum_of_numbers / len(numbers)\n",
    "print(mean_of_numbers)\n",
    "\n",
    "# Calculate the median of the elements\n",
    "sorted_numbers = sorted(numbers)\n",
    "n = len(numbers)\n",
    "if n % 2 == 0:\n",
    "    median_index = n // 2\n",
    "    median = (sorted_numbers[median_index - 1] + sorted_numbers[median_index]) / 2\n",
    "else:\n",
    "    median_index = n // 2\n",
    "    median = sorted_numbers[median_index]\n",
    "\n",
    "print(median_index)\n",
    "print(median)"
   ]
  },
  {
   "cell_type": "code",
   "execution_count": null,
   "id": "14eb2a40-435c-43d0-92b6-17721949fdc8",
   "metadata": {},
   "outputs": [],
   "source": []
  }
 ],
 "metadata": {
  "kernelspec": {
   "display_name": "Python 3 (ipykernel)",
   "language": "python",
   "name": "python3"
  },
  "language_info": {
   "codemirror_mode": {
    "name": "ipython",
    "version": 3
   },
   "file_extension": ".py",
   "mimetype": "text/x-python",
   "name": "python",
   "nbconvert_exporter": "python",
   "pygments_lexer": "ipython3",
   "version": "3.11.7"
  }
 },
 "nbformat": 4,
 "nbformat_minor": 5
}
