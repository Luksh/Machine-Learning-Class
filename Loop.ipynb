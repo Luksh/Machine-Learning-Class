{
 "cells": [
  {
   "cell_type": "code",
   "execution_count": 3,
   "id": "fd181b8e-91ce-49c8-a888-63e017535761",
   "metadata": {},
   "outputs": [
    {
     "name": "stdout",
     "output_type": "stream",
     "text": [
      "[5, 10, 15, 20, 25]\n",
      "5\n",
      "10\n",
      "15\n",
      "20\n",
      "25\n"
     ]
    }
   ],
   "source": [
    "multiple_of_5=[5,10,15,20,25]\n",
    "print(multiple_of_5)\n",
    "\n",
    "for num in multiple_of_5:\n",
    "    print(num)"
   ]
  },
  {
   "cell_type": "code",
   "execution_count": 6,
   "id": "3a301c4b-fe6b-474b-98b5-51168cc5c9f1",
   "metadata": {},
   "outputs": [
    {
     "name": "stdout",
     "output_type": "stream",
     "text": [
      "H\n",
      "i\n",
      "!\n",
      " \n",
      "M\n",
      "y\n",
      " \n",
      "n\n",
      "a\n",
      "m\n",
      "e\n",
      " \n",
      "i\n",
      "s\n",
      " \n",
      "L\n",
      "a\n",
      "x\n",
      "m\n",
      "a\n",
      "n\n"
     ]
    }
   ],
   "source": [
    "string=\"Hi! My name is Laxman\"\n",
    "for char in string:\n",
    "    print(char)"
   ]
  },
  {
   "cell_type": "code",
   "execution_count": 7,
   "id": "96415d2b-3b85-46a6-ba04-3b68df62fb17",
   "metadata": {},
   "outputs": [
    {
     "name": "stdout",
     "output_type": "stream",
     "text": [
      "0\n",
      "1\n",
      "2\n",
      "3\n",
      "4\n",
      "5\n",
      "6\n",
      "7\n",
      "8\n",
      "9\n"
     ]
    }
   ],
   "source": [
    "for i in range(10):\n",
    "    print(i)"
   ]
  },
  {
   "cell_type": "code",
   "execution_count": 10,
   "id": "50811c4c-6819-45be-87eb-e7d92a0afb6c",
   "metadata": {},
   "outputs": [
    {
     "name": "stdout",
     "output_type": "stream",
     "text": [
      "0\n",
      "2\n",
      "4\n",
      "6\n",
      "8\n",
      "10\n"
     ]
    }
   ],
   "source": [
    "for i in range(0,11,2):\n",
    "    print(i)"
   ]
  },
  {
   "cell_type": "code",
   "execution_count": 13,
   "id": "7cf96acc-2e9d-4473-8d0f-1f83748dd075",
   "metadata": {},
   "outputs": [
    {
     "name": "stdout",
     "output_type": "stream",
     "text": [
      "1\n",
      "3\n",
      "5\n",
      "7\n",
      "9\n"
     ]
    }
   ],
   "source": [
    "for i in range(1,11,2):\n",
    "    print(i)"
   ]
  },
  {
   "cell_type": "code",
   "execution_count": 16,
   "id": "8c473522-ab7c-4589-964d-6565f8fb7f10",
   "metadata": {},
   "outputs": [
    {
     "name": "stdout",
     "output_type": "stream",
     "text": [
      "19\n",
      "17\n",
      "15\n",
      "13\n"
     ]
    }
   ],
   "source": [
    "# Odd numbers from 20 to 11\n",
    "for i in range(19,11,-2):\n",
    "    print(i)"
   ]
  },
  {
   "cell_type": "code",
   "execution_count": 17,
   "id": "18b362f7-2086-4011-91d4-9502eea71d67",
   "metadata": {},
   "outputs": [
    {
     "name": "stdout",
     "output_type": "stream",
     "text": [
      "Laxman 5\n",
      "Abishek 10\n",
      "Shristi 15\n"
     ]
    }
   ],
   "source": [
    "fav_number={\"Laxman\":5,\"Abishek\":10,\"Shristi\":15}\n",
    "for key,value in fav_number.items():\n",
    "    print(key,value)"
   ]
  },
  {
   "cell_type": "code",
   "execution_count": 19,
   "id": "bc6d3ff9-f859-45e7-b869-3db3dec2b83b",
   "metadata": {},
   "outputs": [
    {
     "name": "stdout",
     "output_type": "stream",
     "text": [
      "('Apple', 10)\n",
      "('Banana', 10)\n",
      "('Mango', 15)\n",
      "Apple 10\n",
      "Banana 10\n",
      "Mango 15\n"
     ]
    }
   ],
   "source": [
    "fruits=[(\"Apple\",10),(\"Banana\",10),(\"Mango\",15)]\n",
    "for item in fruits:\n",
    "    print(item)\n",
    "\n",
    "for char,num in fruits:\n",
    "    print(char,num)"
   ]
  },
  {
   "cell_type": "code",
   "execution_count": 21,
   "id": "9bc69df4-92c2-43d0-928c-1ab3548e92a1",
   "metadata": {},
   "outputs": [
    {
     "name": "stdout",
     "output_type": "stream",
     "text": [
      "1\n",
      "2\n",
      "3\n",
      "4\n",
      "5\n",
      "6\n",
      "7\n",
      "8\n",
      "9\n",
      "10\n"
     ]
    }
   ],
   "source": [
    "count=1\n",
    "while count<=10:\n",
    "    print(count)\n",
    "    count+=1"
   ]
  },
  {
   "cell_type": "code",
   "execution_count": 25,
   "id": "7bf7d7c0-c8ab-41f2-9e87-69f84150f33a",
   "metadata": {},
   "outputs": [
    {
     "name": "stdout",
     "output_type": "stream",
     "text": [
      "Sum of the numbers from 1 to 10: 55\n"
     ]
    }
   ],
   "source": [
    "sum=0\n",
    "num=1\n",
    "while num <=10:\n",
    "    sum+=num\n",
    "    num+=1\n",
    "\n",
    "print(\"Sum of the numbers from 1 to 10:\",sum)"
   ]
  },
  {
   "cell_type": "code",
   "execution_count": 27,
   "id": "271bfe80-64c6-4fe0-99e3-592b5100f5bf",
   "metadata": {},
   "outputs": [
    {
     "name": "stdout",
     "output_type": "stream",
     "text": [
      "Sum of the even numbers from 1 to 10: 30\n"
     ]
    }
   ],
   "source": [
    "sum=0\n",
    "num=1\n",
    "while num <=10:\n",
    "    if num%2==0:\n",
    "        sum+=num\n",
    "    num+=1\n",
    "\n",
    "print(\"Sum of the even numbers from 1 to 10:\",sum)"
   ]
  },
  {
   "cell_type": "code",
   "execution_count": 28,
   "id": "b374e7d1-1d0e-43c5-8745-676b4e14d4fd",
   "metadata": {},
   "outputs": [
    {
     "name": "stdout",
     "output_type": "stream",
     "text": [
      "2\n",
      "4\n",
      "6\n",
      "8\n",
      "10\n",
      "11\n"
     ]
    }
   ],
   "source": [
    "num=1\n",
    "while num <=10:\n",
    "    if num%2==0:\n",
    "        print(num)\n",
    "    num+=1\n",
    "\n",
    "print(num)"
   ]
  },
  {
   "cell_type": "code",
   "execution_count": 31,
   "id": "0add0144-b19d-41f4-bb96-5a3cbbfa9318",
   "metadata": {},
   "outputs": [
    {
     "name": "stdout",
     "output_type": "stream",
     "text": [
      "Factorial of 5 is: 120\n"
     ]
    }
   ],
   "source": [
    "factorial = 1\n",
    "\n",
    "for i in range(1, 6):\n",
    "    factorial *= i\n",
    "print(\"Factorial of 5 is:\", factorial)"
   ]
  },
  {
   "cell_type": "code",
   "execution_count": 32,
   "id": "56889d5c-3c37-4c46-93ec-17d7559f362d",
   "metadata": {},
   "outputs": [
    {
     "name": "stdout",
     "output_type": "stream",
     "text": [
      "120\n"
     ]
    }
   ],
   "source": [
    "num=5\n",
    "factorial=1\n",
    "while num>0:\n",
    "    factorial*=num\n",
    "    num-=1\n",
    "\n",
    "print(factorial)"
   ]
  },
  {
   "cell_type": "code",
   "execution_count": 11,
   "id": "b600e946-8131-4f4a-9a3b-73396720c0ae",
   "metadata": {},
   "outputs": [
    {
     "name": "stdin",
     "output_type": "stream",
     "text": [
      "Enter a string Laxman Maharjan\n"
     ]
    },
    {
     "name": "stdout",
     "output_type": "stream",
     "text": [
      "Reversed string: najrahaM namxaL\n"
     ]
    }
   ],
   "source": [
    "input_string=input(\"Enter a string\")\n",
    "reversed_string=\"\"\n",
    "for char in input_string:\n",
    "    reversed_string=char+reversed_string\n",
    "\n",
    "print(\"Reversed string:\",reversed_string)"
   ]
  },
  {
   "cell_type": "code",
   "execution_count": null,
   "id": "0dc51fc7-ec66-4792-8256-a36d9474f188",
   "metadata": {},
   "outputs": [],
   "source": []
  }
 ],
 "metadata": {
  "kernelspec": {
   "display_name": "Python 3 (ipykernel)",
   "language": "python",
   "name": "python3"
  },
  "language_info": {
   "codemirror_mode": {
    "name": "ipython",
    "version": 3
   },
   "file_extension": ".py",
   "mimetype": "text/x-python",
   "name": "python",
   "nbconvert_exporter": "python",
   "pygments_lexer": "ipython3",
   "version": "3.11.7"
  }
 },
 "nbformat": 4,
 "nbformat_minor": 5
}
