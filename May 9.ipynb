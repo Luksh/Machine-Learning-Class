{
 "cells": [
  {
   "cell_type": "code",
   "execution_count": 1,
   "id": "bdad3c82",
   "metadata": {},
   "outputs": [
    {
     "name": "stdout",
     "output_type": "stream",
     "text": [
      "Laxman Maharjan\n"
     ]
    }
   ],
   "source": [
    "print(\"Laxman Maharjan\")"
   ]
  },
  {
   "cell_type": "code",
   "execution_count": 4,
   "id": "9df6d0eb",
   "metadata": {},
   "outputs": [
    {
     "name": "stdout",
     "output_type": "stream",
     "text": [
      "5\n",
      "Laxman\n"
     ]
    }
   ],
   "source": [
    "x=5\n",
    "y=\"Laxman\"\n",
    "print(x)\n",
    "print(y)"
   ]
  },
  {
   "cell_type": "code",
   "execution_count": 6,
   "id": "08658e52",
   "metadata": {},
   "outputs": [
    {
     "name": "stdout",
     "output_type": "stream",
     "text": [
      "Laxman has 5 gfs.\n"
     ]
    }
   ],
   "source": [
    "print(f\"{y} has {x} gfs.\")"
   ]
  },
  {
   "cell_type": "code",
   "execution_count": 10,
   "id": "c05ea65f",
   "metadata": {},
   "outputs": [
    {
     "name": "stdout",
     "output_type": "stream",
     "text": [
      "Laxman has 5 gfs.\n"
     ]
    }
   ],
   "source": [
    "print(\"{} has {} gfs.\" .format(y,x))"
   ]
  },
  {
   "cell_type": "code",
   "execution_count": 13,
   "id": "d2aac6d5",
   "metadata": {},
   "outputs": [
    {
     "name": "stdout",
     "output_type": "stream",
     "text": [
      "Laxmanhas5gfs.\n"
     ]
    }
   ],
   "source": [
    "print(y+\"has\"+str(x)+\"gfs.\")"
   ]
  },
  {
   "cell_type": "code",
   "execution_count": 16,
   "id": "3fd8c442",
   "metadata": {},
   "outputs": [
    {
     "name": "stdout",
     "output_type": "stream",
     "text": [
      "Laxman has 5 gfs.\n"
     ]
    }
   ],
   "source": [
    "print(\"%s has %d gfs.\"%(y,x))"
   ]
  },
  {
   "cell_type": "code",
   "execution_count": 17,
   "id": "dc38a0cd",
   "metadata": {},
   "outputs": [
    {
     "data": {
      "text/plain": [
       "5"
      ]
     },
     "execution_count": 17,
     "metadata": {},
     "output_type": "execute_result"
    }
   ],
   "source": [
    "x"
   ]
  },
  {
   "cell_type": "code",
   "execution_count": 22,
   "id": "0d8b8972",
   "metadata": {},
   "outputs": [
    {
     "name": "stdout",
     "output_type": "stream",
     "text": [
      "The addition of x and y is 15.\n",
      "5\n",
      "50\n",
      "2.0\n",
      "0\n"
     ]
    }
   ],
   "source": [
    "x=5\n",
    "y=10\n",
    "print(f\"The addition of x and y is {x+y}.\")\n",
    "print(y-x)\n",
    "print(x*y)\n",
    "print(y/x)\n",
    "print(y%x)"
   ]
  },
  {
   "cell_type": "code",
   "execution_count": 23,
   "id": "cad75029",
   "metadata": {},
   "outputs": [
    {
     "name": "stdout",
     "output_type": "stream",
     "text": [
      "Single Quoted\n",
      "Double Qiuoted\n"
     ]
    }
   ],
   "source": [
    "print('Single Quoted')\n",
    "print(\"Double Qiuoted\")"
   ]
  },
  {
   "cell_type": "code",
   "execution_count": 25,
   "id": "f97cc713",
   "metadata": {},
   "outputs": [
    {
     "name": "stdout",
     "output_type": "stream",
     "text": [
      "LaxmanMaharjan\n"
     ]
    }
   ],
   "source": [
    "string=\"Laxman\"\n",
    "concatenated_string=string+\"Maharjan\"\n",
    "print(concatenated_string)"
   ]
  },
  {
   "cell_type": "code",
   "execution_count": 26,
   "id": "5c1699ef",
   "metadata": {},
   "outputs": [
    {
     "name": "stdout",
     "output_type": "stream",
     "text": [
      "LAXMANMAHARJAN\n"
     ]
    }
   ],
   "source": [
    "uppercase_string=concatenated_string.upper()\n",
    "print(uppercase_string)"
   ]
  },
  {
   "cell_type": "code",
   "execution_count": 28,
   "id": "6b7a6cbc",
   "metadata": {},
   "outputs": [
    {
     "name": "stdout",
     "output_type": "stream",
     "text": [
      "laxmanmaharjan\n"
     ]
    }
   ],
   "source": [
    "lowercase_string=concatenated_string.lower()\n",
    "print(lowercase_string)"
   ]
  },
  {
   "cell_type": "code",
   "execution_count": 2,
   "id": "256971a8",
   "metadata": {},
   "outputs": [
    {
     "name": "stdout",
     "output_type": "stream",
     "text": [
      "ersity\n"
     ]
    }
   ],
   "source": [
    "word=\"University of Sunderland\"\n",
    "sliced_word=word[4:10]\n",
    "print(sliced_word)"
   ]
  },
  {
   "cell_type": "code",
   "execution_count": 6,
   "id": "19566861-c9a1-46b9-9309-3fd326fdf0fe",
   "metadata": {},
   "outputs": [
    {
     "name": "stdout",
     "output_type": "stream",
     "text": [
      "Kathmandu University\n"
     ]
    }
   ],
   "source": [
    "word_space=\"         Kathmandu University    \"\n",
    "print(word_space.strip())"
   ]
  },
  {
   "cell_type": "code",
   "execution_count": 8,
   "id": "8397faeb-3883-474a-b513-64c156800658",
   "metadata": {},
   "outputs": [
    {
     "name": "stdout",
     "output_type": "stream",
     "text": [
      "Laxman Samjhana Shristi Saru Arun\n"
     ]
    }
   ],
   "source": [
    "word_list=[\"Laxman\",\"Samjhana\",\"Shristi\",\"Saru\",\"Arun\"]\n",
    "sentence=\" \".join(word_list)\n",
    "print(sentence)"
   ]
  },
  {
   "cell_type": "code",
   "execution_count": 10,
   "id": "676fa535-995e-4225-8e2b-00ce69a8c5bf",
   "metadata": {},
   "outputs": [
    {
     "name": "stdout",
     "output_type": "stream",
     "text": [
      "Shristi Maharjan\n"
     ]
    }
   ],
   "source": [
    "sentence=\"Laxman Maharjan\"\n",
    "replaced_string=sentence.replace(\"Laxman\",\"Shristi\")\n",
    "print(replaced_string)"
   ]
  },
  {
   "cell_type": "code",
   "execution_count": 12,
   "id": "bd00529d-addb-4d10-9dc5-91e65316b3b2",
   "metadata": {},
   "outputs": [
    {
     "name": "stdout",
     "output_type": "stream",
     "text": [
      "11\n"
     ]
    }
   ],
   "source": [
    "sentence=\"My name is Laxman Maharjan\"\n",
    "index=sentence.find(\"Laxman\")\n",
    "print(index)"
   ]
  },
  {
   "cell_type": "code",
   "execution_count": 15,
   "id": "f10f3f79-0ded-4a62-b665-dcaa5fe0c9d7",
   "metadata": {},
   "outputs": [
    {
     "name": "stdout",
     "output_type": "stream",
     "text": [
      "Upashna Singh Thakuri\n",
      "3\n"
     ]
    }
   ],
   "source": [
    "fav_actress=[\"Upashna Singh Thakuri\",\"Jasita Gurung\",\"Miruna Magar\"]\n",
    "print(fav_actress[0])\n",
    "print(len(fav_actress))"
   ]
  },
  {
   "cell_type": "code",
   "execution_count": 16,
   "id": "2c84f18c-5eaf-480e-9ea1-95f3fb95b89a",
   "metadata": {},
   "outputs": [
    {
     "name": "stdout",
     "output_type": "stream",
     "text": [
      "['Laxman', 'Abishek', 'Rijan']\n",
      "[5, 10, 15]\n",
      "[True, False, True]\n",
      "['Laxman', 5, True]\n"
     ]
    }
   ],
   "source": [
    "list1=[\"Laxman\",\"Abishek\",\"Rijan\"]\n",
    "list2=[5,10,15]\n",
    "list3=[True,False,True]\n",
    "list4=[\"Laxman\",5,True]\n",
    "print(list1)\n",
    "print(list2)\n",
    "print(list3)\n",
    "print(list4)"
   ]
  },
  {
   "cell_type": "code",
   "execution_count": 18,
   "id": "25d9db62-276f-4bd6-aaf8-1f267a4557fc",
   "metadata": {},
   "outputs": [
    {
     "name": "stdout",
     "output_type": "stream",
     "text": [
      "<class 'list'>\n"
     ]
    }
   ],
   "source": [
    "print(type(list4))"
   ]
  },
  {
   "cell_type": "code",
   "execution_count": 22,
   "id": "4f19b29a-d422-47ca-be20-186be718a074",
   "metadata": {},
   "outputs": [
    {
     "name": "stdout",
     "output_type": "stream",
     "text": [
      "['Laxma', 'Shristi', 'Rebecca', [5, 10, 15]]\n",
      "15\n"
     ]
    }
   ],
   "source": [
    "nested_list=[\"Laxma\",\"Shristi\",\"Rebecca\",[5,10,15]]\n",
    "print(nested_list)\n",
    "print(nested_list[3][2])"
   ]
  },
  {
   "cell_type": "code",
   "execution_count": 25,
   "id": "639c6abf-8ff2-429c-bbf4-15fd25a8a3fa",
   "metadata": {},
   "outputs": [
    {
     "name": "stdout",
     "output_type": "stream",
     "text": [
      "{'name': 'Laxman Maharjan', 'College': 'ISMT', 'Address': 'Lalitpur'}\n",
      "Laxman Maharjan\n"
     ]
    }
   ],
   "source": [
    "student={\"Name\":\"Laxman Maharjan\",\"College\":\"ISMT\",\"Address\":\"Lalitpur\"}\n",
    "print(student)\n",
    "print(student[\"Name\"])"
   ]
  },
  {
   "cell_type": "code",
   "execution_count": 26,
   "id": "08462bab-63fe-4a42-898e-ba7db66ff2af",
   "metadata": {},
   "outputs": [
    {
     "name": "stdout",
     "output_type": "stream",
     "text": [
      "{'name': 'Laxman Maharjan', 'College': 'ISMT', 'Address': 'Lalitpur', 'Year': 2024}\n"
     ]
    }
   ],
   "source": [
    "student[\"Year\"]=2024\n",
    "print(student)"
   ]
  },
  {
   "cell_type": "code",
   "execution_count": 27,
   "id": "39c1fb5f-8315-4433-94be-aeaf570f4709",
   "metadata": {},
   "outputs": [
    {
     "name": "stdout",
     "output_type": "stream",
     "text": [
      "{'name': 'Laxman Maharjan', 'College': 'ISMT', 'Address': 'Lalitpur', 'Year': 2023}\n"
     ]
    }
   ],
   "source": [
    "student[\"Year\"]=2023\n",
    "print(student)"
   ]
  },
  {
   "cell_type": "code",
   "execution_count": 29,
   "id": "9248591a-9739-4078-9199-ebaaec183ed4",
   "metadata": {},
   "outputs": [
    {
     "name": "stdout",
     "output_type": "stream",
     "text": [
      "{'name': 'Laxman Maharjan', 'Address': 'Lalitpur', 'Year': 2023}\n"
     ]
    }
   ],
   "source": [
    "if \"College\" in student:\n",
    "    del student[\"College\"]\n",
    "    print(student)"
   ]
  },
  {
   "cell_type": "code",
   "execution_count": 30,
   "id": "5fd635bd-aa2b-4442-a3f5-08515407fdc1",
   "metadata": {},
   "outputs": [
    {
     "name": "stdout",
     "output_type": "stream",
     "text": [
      "{'name': 'T 500', 'company': 'Tesla', 'price': 100000}\n"
     ]
    }
   ],
   "source": [
    "car_dict=dict(name=\"T 500\",company=\"Tesla\",price=100000)\n",
    "print(car_dict)"
   ]
  },
  {
   "cell_type": "code",
   "execution_count": 5,
   "id": "e714cb49-722b-4474-8206-e1d4bc340dcb",
   "metadata": {},
   "outputs": [
    {
     "name": "stdout",
     "output_type": "stream",
     "text": [
      "\n",
      "Example 1: Comparing values:\n",
      "Is 100 smaller than 50? False\n",
      "Is 100 greater than 150? False\n"
     ]
    }
   ],
   "source": [
    "print(\"\\nExample 1: Comparing values:\")\n",
    "print(\"Is 100 smaller than 50?\", 50>100)\n",
    "print(\"Is 100 greater than 150?\", 100==150)"
   ]
  },
  {
   "cell_type": "code",
   "execution_count": 6,
   "id": "8ba07776-0b0b-408e-89fb-46e8e4c1cb02",
   "metadata": {},
   "outputs": [
    {
     "name": "stdout",
     "output_type": "stream",
     "text": [
      "100 is greater than 50.\n"
     ]
    }
   ],
   "source": [
    "x=50\n",
    "y=100\n",
    "if x>y:\n",
    "    print(f\"{x} is greater than {y}.\")\n",
    "else:\n",
    "    print(f\"{y} is greater than {x}.\")"
   ]
  },
  {
   "cell_type": "code",
   "execution_count": 10,
   "id": "61ceb63c-a6eb-4c75-9e13-6610acf9a498",
   "metadata": {},
   "outputs": [
    {
     "name": "stdout",
     "output_type": "stream",
     "text": [
      "Is 'lam' true? True\n"
     ]
    }
   ],
   "source": [
    "print(\"Is 'Hello' true?\",bool(\"Hello\"))"
   ]
  },
  {
   "cell_type": "code",
   "execution_count": 8,
   "id": "595d74df-8f66-478c-bb95-33c943192f1c",
   "metadata": {},
   "outputs": [
    {
     "name": "stdout",
     "output_type": "stream",
     "text": [
      "Is x true? True\n",
      "Is y true? True\n"
     ]
    }
   ],
   "source": [
    "x=\"Hi\"\n",
    "y=25\n",
    "print(\"Is x true?\",bool(x))\n",
    "print(\"Is y true?\",bool(y))"
   ]
  },
  {
   "cell_type": "code",
   "execution_count": 12,
   "id": "a353980e-5843-4e75-ad60-745d22dfcaf6",
   "metadata": {},
   "outputs": [
    {
     "name": "stdout",
     "output_type": "stream",
     "text": [
      "Is 20 even? True\n",
      "Is 15 even? False\n"
     ]
    }
   ],
   "source": [
    "def is_even(num):\n",
    "    return num%2==0\n",
    "\n",
    "print(\"Is 20 even?\",is_even(20))\n",
    "print(\"Is 15 even?\",is_even(15))"
   ]
  },
  {
   "cell_type": "code",
   "execution_count": 16,
   "id": "042fdd42-a176-4283-b451-74a36f040c0c",
   "metadata": {},
   "outputs": [
    {
     "name": "stdout",
     "output_type": "stream",
     "text": [
      "Titanic\n"
     ]
    }
   ],
   "source": [
    "fav_movie=(\"Titanic\",\"Alita\",\"Coco\")\n",
    "print(fav_movie[0])"
   ]
  },
  {
   "cell_type": "code",
   "execution_count": 17,
   "id": "1693ea33-9b98-4ee4-9288-e646923c9f02",
   "metadata": {},
   "outputs": [
    {
     "name": "stdout",
     "output_type": "stream",
     "text": [
      "Titanic Alita Coco\n"
     ]
    }
   ],
   "source": [
    "x,y,z=fav_movie\n",
    "print(x,y,z)"
   ]
  },
  {
   "cell_type": "code",
   "execution_count": 18,
   "id": "77d802a5-0e07-47ea-b0e4-afcfaec3013d",
   "metadata": {},
   "outputs": [
    {
     "name": "stdout",
     "output_type": "stream",
     "text": [
      "Titanic\n",
      "Alita\n",
      "Coco\n"
     ]
    }
   ],
   "source": [
    "for item in fav_movie:\n",
    "    print(item)"
   ]
  },
  {
   "cell_type": "code",
   "execution_count": 19,
   "id": "e7bf07f7-0ce9-4cdf-85de-879a030213bd",
   "metadata": {},
   "outputs": [
    {
     "name": "stdout",
     "output_type": "stream",
     "text": [
      "('Apple', 'Banana', 'Mango', 'Potato', 'Cauli', 'Onion')\n"
     ]
    }
   ],
   "source": [
    "first_tuple=(\"Apple\",\"Banana\",\"Mango\")\n",
    "second_tuple=(\"Potato\",\"Cauli\",\"Onion\")\n",
    "joined_tuple=first_tuple+second_tuple\n",
    "print(joined_tuple)"
   ]
  },
  {
   "cell_type": "code",
   "execution_count": 20,
   "id": "ad306a6b-1657-4871-8e0f-8896c6a433c9",
   "metadata": {},
   "outputs": [
    {
     "name": "stdout",
     "output_type": "stream",
     "text": [
      "{'Apple', 'Orange', 'Mango', 'Banana'}\n"
     ]
    }
   ],
   "source": [
    "first_set={\"Apple\",\"Banana\",\"Mango\"}\n",
    "first_set.add(\"Orange\")\n",
    "print(first_set)"
   ]
  },
  {
   "cell_type": "code",
   "execution_count": 21,
   "id": "1e956337-5192-42f1-aafe-9767b6dd75f4",
   "metadata": {},
   "outputs": [
    {
     "name": "stdout",
     "output_type": "stream",
     "text": [
      "{'Mango', 'Papaya', 'Orange', 'Pineapple', 'Banana', 'Apple'}\n"
     ]
    }
   ],
   "source": [
    "first_set.update([\"Pineapple\",\"Papaya\"])\n",
    "print(first_set)"
   ]
  },
  {
   "cell_type": "code",
   "execution_count": 22,
   "id": "b4209f4b-be78-4e46-a033-77cb71dcac21",
   "metadata": {},
   "outputs": [
    {
     "name": "stdout",
     "output_type": "stream",
     "text": [
      "{'Mango', 'Papaya', 'Orange', 'Banana', 'Apple'}\n"
     ]
    }
   ],
   "source": [
    "first_set.remove(\"Pineapple\")\n",
    "print(first_set)"
   ]
  },
  {
   "cell_type": "code",
   "execution_count": 27,
   "id": "fd47fb11-efc8-4eb0-b5c9-33ef5a199fc1",
   "metadata": {},
   "outputs": [
    {
     "name": "stdout",
     "output_type": "stream",
     "text": [
      "0 is the greatest number.\n"
     ]
    }
   ],
   "source": [
    "a=-5\n",
    "b=-10\n",
    "c=0\n",
    "if a>=b and a>=c:\n",
    "    print(f\"{a} is the greatest number.\")\n",
    "elif b>=a and b>=c:\n",
    "    print(f\"{b} is the greatest number.\")\n",
    "else:\n",
    "    print(f\"{c} is the greatest number.\")"
   ]
  },
  {
   "cell_type": "code",
   "execution_count": 35,
   "id": "882071d7-9837-4afa-8bf3-e03ad0ce0666",
   "metadata": {},
   "outputs": [
    {
     "name": "stdout",
     "output_type": "stream",
     "text": [
      "Not leap year\n"
     ]
    }
   ],
   "source": [
    "year=1941\n",
    "if (year%4==0):\n",
    "    print(\"Leap year\")\n",
    "else:\n",
    "    print(\"Not leap year\")"
   ]
  },
  {
   "cell_type": "code",
   "execution_count": 36,
   "id": "a6ee45e4-5cd6-4720-884f-602839519440",
   "metadata": {},
   "outputs": [
    {
     "name": "stdout",
     "output_type": "stream",
     "text": [
      "Rainy\n"
     ]
    }
   ],
   "source": [
    "month=\"May\"\n",
    "if month in [\"Jan\",\"Feb\",\"March\",\"May\"]:\n",
    "    print(\"Rainy\")\n",
    "elif month in [\"Sep\",\"Oct\",\"Nov\"]:\n",
    "    print(\"Autumn\")\n",
    "else:\n",
    "    print(\"Summer\")"
   ]
  },
  {
   "cell_type": "code",
   "execution_count": null,
   "id": "5b149943-aa96-4212-8149-93d68d1e0504",
   "metadata": {},
   "outputs": [],
   "source": []
  }
 ],
 "metadata": {
  "kernelspec": {
   "display_name": "Python 3 (ipykernel)",
   "language": "python",
   "name": "python3"
  },
  "language_info": {
   "codemirror_mode": {
    "name": "ipython",
    "version": 3
   },
   "file_extension": ".py",
   "mimetype": "text/x-python",
   "name": "python",
   "nbconvert_exporter": "python",
   "pygments_lexer": "ipython3",
   "version": "3.11.7"
  }
 },
 "nbformat": 4,
 "nbformat_minor": 5
}
