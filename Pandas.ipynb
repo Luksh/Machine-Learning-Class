{
 "cells": [
  {
   "cell_type": "code",
   "execution_count": 1,
   "id": "c6ca4ecc-7a1f-4902-a456-e4cd6daf3fbf",
   "metadata": {},
   "outputs": [],
   "source": [
    "import pandas as pd"
   ]
  },
  {
   "cell_type": "code",
   "execution_count": 2,
   "id": "34e43ecc-533c-4cef-a84d-5f8786bdd088",
   "metadata": {},
   "outputs": [
    {
     "name": "stdout",
     "output_type": "stream",
     "text": [
      "0    10\n",
      "1    20\n",
      "2    30\n",
      "3    40\n",
      "4    50\n",
      "dtype: int64\n"
     ]
    }
   ],
   "source": [
    "#Create a series from a list\n",
    "data_list=[10,20,30,40,50]\n",
    "series_from_list=pd.Series(data_list)\n",
    "print(series_from_list)"
   ]
  },
  {
   "cell_type": "code",
   "execution_count": 4,
   "id": "0cb5c468-8381-4708-8531-abb7c067e6d7",
   "metadata": {},
   "outputs": [
    {
     "name": "stdout",
     "output_type": "stream",
     "text": [
      "Apple     10\n",
      "Banana    15\n",
      "Mango     20\n",
      "dtype: int64\n"
     ]
    }
   ],
   "source": [
    "#Create a Series from dictionary\n",
    "data_dict={\"Apple\":10,\"Banana\":15,\"Mango\":20}\n",
    "series_from_dict=pd.Series(data_dict)\n",
    "print(series_from_dict)"
   ]
  },
  {
   "cell_type": "code",
   "execution_count": 5,
   "id": "b18eb564-10bf-4ac6-90b9-545160bb81ac",
   "metadata": {},
   "outputs": [
    {
     "name": "stdout",
     "output_type": "stream",
     "text": [
      "0    100\n",
      "1    200\n",
      "2    300\n",
      "3    400\n",
      "4    500\n",
      "dtype: int32\n"
     ]
    }
   ],
   "source": [
    "import numpy as np\n",
    "#Create series from numpy array\n",
    "data_array=np.array([100,200,300,400,500])\n",
    "series_from_array=pd.Series(data_array)\n",
    "print(series_from_array)"
   ]
  },
  {
   "cell_type": "code",
   "execution_count": 6,
   "id": "6275c966-1255-4a7f-8294-e6671dd6989d",
   "metadata": {},
   "outputs": [
    {
     "name": "stdout",
     "output_type": "stream",
     "text": [
      "10\n",
      "50\n"
     ]
    }
   ],
   "source": [
    "data_list=[10,20,30,40,50]\n",
    "series_from_list=pd.Series(data_list)\n",
    "#Assessing the values using integer as index\n",
    "print(series_from_list[0])\n",
    "print(series_from_list[4])"
   ]
  },
  {
   "cell_type": "code",
   "execution_count": 8,
   "id": "db621f54-20f9-4478-872b-60f55a93e0da",
   "metadata": {},
   "outputs": [
    {
     "name": "stdout",
     "output_type": "stream",
     "text": [
      "10\n"
     ]
    }
   ],
   "source": [
    "#Assessing values using labels\n",
    "series_with_labels=pd.Series(data_list,index=[\"a\",\"b\",\"c\",\"d\",\"e\"])\n",
    "print(series_with_labels[\"a\"])"
   ]
  },
  {
   "cell_type": "code",
   "execution_count": 9,
   "id": "b460edef-4c2d-4d80-ac61-1cd426e63366",
   "metadata": {},
   "outputs": [
    {
     "name": "stdout",
     "output_type": "stream",
     "text": [
      "[10 20 30 40 50]\n",
      "Index(['a', 'b', 'c', 'd', 'e'], dtype='object')\n"
     ]
    }
   ],
   "source": [
    "#Getting the values of the series\n",
    "print(series_from_list.values)\n",
    "#Gettng the index from series\n",
    "print(series_with_labels.index)"
   ]
  },
  {
   "cell_type": "code",
   "execution_count": 10,
   "id": "b8d777a7-1cc3-486b-96c7-24f68a7b9834",
   "metadata": {},
   "outputs": [
    {
     "name": "stdout",
     "output_type": "stream",
     "text": [
      "   A   B   C\n",
      "0  1   6  11\n",
      "1  2   7  12\n",
      "2  3   8  13\n",
      "3  4   9  14\n",
      "4  5  10  15\n"
     ]
    }
   ],
   "source": [
    "#Create a dataframe from dictionary\n",
    "data_dict={\"A\":[1,2,3,4,5],\"B\":[6,7,8,9,10],\"C\":[11,12,13,14,15]}\n",
    "df_from_dict=pd.DataFrame(data_dict)\n",
    "print(df_from_dict)"
   ]
  },
  {
   "cell_type": "code",
   "execution_count": 12,
   "id": "335955b2-3e45-4863-b0c8-a8d9289c755a",
   "metadata": {},
   "outputs": [
    {
     "name": "stdout",
     "output_type": "stream",
     "text": [
      "     A    B    C\n",
      "0    1    2    3\n",
      "1   20   30   40\n",
      "2  100  200  300\n"
     ]
    }
   ],
   "source": [
    "#Create a DataFrame from a list of dictionaries\n",
    "data_list_of_dict=[{\"A\":1,\"B\":2,\"C\":3},{\"A\":20,\"B\":30,\"C\":40},{\"A\":100,\"B\":200,\"C\":300}]\n",
    "df_from_list_of_dict=pd.DataFrame(data_list_of_dict)\n",
    "print(df_from_dict)"
   ]
  },
  {
   "cell_type": "code",
   "execution_count": 14,
   "id": "6c7a113f-a6f3-42be-947e-f95f1a1b99ab",
   "metadata": {},
   "outputs": [
    {
     "name": "stdout",
     "output_type": "stream",
     "text": [
      "    A   B    C\n",
      "0  10  50   90\n",
      "1  20  60  100\n",
      "2  30  70  110\n",
      "3  40  80  120\n"
     ]
    }
   ],
   "source": [
    "#Create a DataFrame from multiple series\n",
    "series_A=pd.Series([10,20,30,40])\n",
    "series_B=pd.Series([50,60,70,80])\n",
    "series_C=pd.Series([90,100,110,120])\n",
    "df_from_series=pd.DataFrame({\"A\":series_A,\"B\":series_B,\"C\":series_C})\n",
    "print(df_from_series)"
   ]
  },
  {
   "cell_type": "code",
   "execution_count": 16,
   "id": "7b483d88-826d-4395-ac3d-32df7eed11ef",
   "metadata": {},
   "outputs": [
    {
     "name": "stdout",
     "output_type": "stream",
     "text": [
      "     A    B    C\n",
      "0   10   20   30\n",
      "1   40   50   60\n",
      "2   70   80   90\n",
      "3  100  110  120\n"
     ]
    }
   ],
   "source": [
    "#Create a DataFrame from a numPy array\n",
    "data_array=np.array([[10,20,30],[40,50,60],[70,80,90],[100,110,120]])\n",
    "df_from_array=pd.DataFrame(data_array,columns=[\"A\",\"B\",\"C\"])\n",
    "print(df_from_array)"
   ]
  },
  {
   "cell_type": "code",
   "execution_count": 17,
   "id": "999991db-68a3-41b2-8281-367063b13410",
   "metadata": {},
   "outputs": [
    {
     "name": "stdout",
     "output_type": "stream",
     "text": [
      "(4, 3)\n",
      "Index(['A', 'B', 'C'], dtype='object')\n",
      "RangeIndex(start=0, stop=4, step=1)\n"
     ]
    }
   ],
   "source": [
    "#Display the structure of DataFrame\n",
    "print(df_from_array.shape)\n",
    "print(df_from_array.columns)\n",
    "print(df_from_array.index)"
   ]
  },
  {
   "cell_type": "code",
   "execution_count": null,
   "id": "07156f16-abba-4692-bcb0-e4b449c89859",
   "metadata": {},
   "outputs": [],
   "source": []
  }
 ],
 "metadata": {
  "kernelspec": {
   "display_name": "Python 3 (ipykernel)",
   "language": "python",
   "name": "python3"
  },
  "language_info": {
   "codemirror_mode": {
    "name": "ipython",
    "version": 3
   },
   "file_extension": ".py",
   "mimetype": "text/x-python",
   "name": "python",
   "nbconvert_exporter": "python",
   "pygments_lexer": "ipython3",
   "version": "3.11.7"
  }
 },
 "nbformat": 4,
 "nbformat_minor": 5
}
