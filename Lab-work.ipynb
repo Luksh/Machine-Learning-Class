{
 "cells": [
  {
   "cell_type": "code",
   "execution_count": 2,
   "id": "611f00e1-6079-437a-92a1-5ae7e540f506",
   "metadata": {},
   "outputs": [
    {
     "name": "stdout",
     "output_type": "stream",
     "text": [
      "Hey!\n",
      "Welcome\n",
      "to\n",
      "ISMT\n",
      "College!\n"
     ]
    }
   ],
   "source": [
    "text = \"Hey!\\nWelcome\\nto\\nISMT\\nCollege!\"\n",
    "\n",
    "print(text)"
   ]
  },
  {
   "cell_type": "code",
   "execution_count": 4,
   "id": "6fd18665-4057-4426-8905-6d3b8a63e0bb",
   "metadata": {},
   "outputs": [
    {
     "name": "stdout",
     "output_type": "stream",
     "text": [
      "2\n",
      "4\n",
      "6\n",
      "8\n",
      "10\n",
      "12\n",
      "14\n",
      "16\n",
      "18\n",
      "20\n",
      "22\n",
      "24\n",
      "26\n",
      "28\n",
      "30\n",
      "32\n",
      "34\n",
      "36\n",
      "38\n",
      "40\n",
      "42\n",
      "44\n",
      "46\n",
      "48\n",
      "50\n",
      "50\n"
     ]
    }
   ],
   "source": [
    "for num in range(1,51):\n",
    "    if num%2==0:\n",
    "        print(num)\n",
    "print(num)"
   ]
  },
  {
   "cell_type": "code",
   "execution_count": 7,
   "id": "a11d052b-324f-4685-8ac2-46189bbedc37",
   "metadata": {},
   "outputs": [
    {
     "name": "stdout",
     "output_type": "stream",
     "text": [
      "Shristi Maharjan studies in ISMT.\n"
     ]
    }
   ],
   "source": [
    "sentence=\"Laxman Maharjan studies in ISMT.\"\n",
    "replaced_sentence=sentence.replace(\"Laxman\",\"Shristi\")\n",
    "print(replaced_sentence)"
   ]
  },
  {
   "cell_type": "code",
   "execution_count": 21,
   "id": "0e082022-c9e3-4f08-b2dc-95b5eadf7f87",
   "metadata": {},
   "outputs": [
    {
     "name": "stdin",
     "output_type": "stream",
     "text": [
      "Enter a number: 20\n"
     ]
    },
    {
     "name": "stdout",
     "output_type": "stream",
     "text": [
      "0 1 1 2 3 5 8 13 21 34 55 89 144 233 377 610 987 1597 2584 4181\n"
     ]
    }
   ],
   "source": [
    "def generate_fibonacci(n):\n",
    "    if n <= 0:\n",
    "        return \"\"\n",
    "    elif n == 1:\n",
    "        return \"0\"\n",
    "    elif n == 2:\n",
    "        return \"0 1\"\n",
    "    \n",
    "    fibonacci_series = [0, 1]\n",
    "    for i in range(2, n):\n",
    "        next_number = fibonacci_series[-1] + fibonacci_series[-2]\n",
    "        fibonacci_series.append(next_number)\n",
    "    \n",
    "    return \" \".join(map(str, fibonacci_series))\n",
    "\n",
    "n = int(input(\"Enter a number:\"))\n",
    "fibonacci_series = generate_fibonacci(n)\n",
    "print(fibonacci_series)"
   ]
  },
  {
   "cell_type": "code",
   "execution_count": 15,
   "id": "ea550a36-4c3c-401c-8cbd-ce3015d56cd8",
   "metadata": {},
   "outputs": [
    {
     "name": "stdin",
     "output_type": "stream",
     "text": [
      "Enter a number 123456789\n"
     ]
    },
    {
     "name": "stdout",
     "output_type": "stream",
     "text": [
      "The sum of the digits of 123456789 is 45\n"
     ]
    }
   ],
   "source": [
    "def sum_of_digits(number):\n",
    "    # Ensure the number is positive for simplicity\n",
    "    number = abs(number)\n",
    "    \n",
    "    sum_digits = 0\n",
    "    while number > 0:\n",
    "        digit = number % 10\n",
    "        sum_digits += digit\n",
    "        number //= 10\n",
    "    \n",
    "    return sum_digits\n",
    "\n",
    "N = int(input(\"Enter a number\"))\n",
    "result = sum_of_digits(N)\n",
    "print(f\"The sum of the digits of {N} is {result}\")"
   ]
  },
  {
   "cell_type": "code",
   "execution_count": 6,
   "id": "4fe267cc-fc0a-4dc8-b2d4-5333b7faca25",
   "metadata": {},
   "outputs": [
    {
     "name": "stdin",
     "output_type": "stream",
     "text": [
      "Enter a number. 3\n"
     ]
    },
    {
     "name": "stdout",
     "output_type": "stream",
     "text": [
      "The factorial of 3 is 6\n"
     ]
    }
   ],
   "source": [
    "def factorial(n):\n",
    "    if n < 0:\n",
    "        return \"Factorial is not defined for negative numbers\"\n",
    "    elif n == 0 or n == 1:\n",
    "        return 1\n",
    "    else:\n",
    "        result = 1\n",
    "        for i in range(2, n + 1):\n",
    "            result *= i\n",
    "        return result\n",
    "\n",
    "n = int(input(\"Enter a number.\"))\n",
    "result = factorial(n)\n",
    "print(f\"The factorial of {n} is {result}\")"
   ]
  },
  {
   "cell_type": "code",
   "execution_count": 9,
   "id": "c00ee21c-fa3d-48b7-ae45-c10f5b55a9b8",
   "metadata": {},
   "outputs": [
    {
     "name": "stdin",
     "output_type": "stream",
     "text": [
      "Enter the number of values you want to input: 5\n",
      "Enter a value: 10\n",
      "Enter a value: 20\n",
      "Enter a value: 30\n",
      "Enter a value: 40\n",
      "Enter a value: 50\n"
     ]
    },
    {
     "name": "stdout",
     "output_type": "stream",
     "text": [
      "The list of values is: ['10', '20', '30', '40', '50']\n"
     ]
    }
   ],
   "source": [
    "def get_values(n):\n",
    "    values = []\n",
    "    for i in range(n):\n",
    "        value = input(\"Enter a value:\")\n",
    "        values.append(value)\n",
    "    return values\n",
    "\n",
    "n = int(input(\"Enter the number of values you want to input:\"))\n",
    "values_list = get_values(n)\n",
    "print(\"The list of values is:\", values_list)\n"
   ]
  },
  {
   "cell_type": "code",
   "execution_count": 4,
   "id": "05895411-a0f6-4b7c-a615-dfc5a242e9cd",
   "metadata": {},
   "outputs": [
    {
     "name": "stdin",
     "output_type": "stream",
     "text": [
      "Enter a number:  153\n"
     ]
    },
    {
     "name": "stdout",
     "output_type": "stream",
     "text": [
      "Yes. 153 is an armstrong number.\n"
     ]
    }
   ],
   "source": [
    "def is_armstrong(number):\n",
    "    # Convert the number to a string to easily iterate over each digit\n",
    "    num_str = str(number)\n",
    "    num_digits = len(num_str)\n",
    "    \n",
    "    # Calculate the sum of the digits raised to the power of the number of digits\n",
    "    sum_of_powers = sum(int(digit) ** num_digits for digit in num_str)\n",
    "    \n",
    "    # Check if the sum of the powers is equal to the original number\n",
    "    return sum_of_powers == number\n",
    "\n",
    "N = int(input(\"Enter a number: \"))\n",
    "if is_armstrong(N):\n",
    "    print(f\"Yes. {N} is an armstrong number.\")\n",
    "else:\n",
    "    print(f\"No. {N} is not an armstrong number.\")\n"
   ]
  },
  {
   "cell_type": "code",
   "execution_count": 5,
   "id": "a85af577-df9f-483e-974d-e3767dd677df",
   "metadata": {},
   "outputs": [
    {
     "name": "stdin",
     "output_type": "stream",
     "text": [
      "Enter the initial number (a): 5\n",
      "Enter the common difference (d):  10\n",
      "Enter the term number (N):  4\n"
     ]
    },
    {
     "name": "stdout",
     "output_type": "stream",
     "text": [
      "The 4th term of the arithmetic progression is 35.0\n"
     ]
    }
   ],
   "source": [
    "def nth_term_of_ap(a, d, n):\n",
    "    # Formula to find the Nth term of an arithmetic progression\n",
    "    nth_term = a + (n - 1) * d\n",
    "    return nth_term\n",
    "\n",
    "a = float(input(\"Enter the initial number (a):\"))\n",
    "d = float(input(\"Enter the common difference (d): \"))\n",
    "n = int(input(\"Enter the term number (N): \"))\n",
    "\n",
    "nth_term = nth_term_of_ap(a, d, n)\n",
    "print(f\"The {n}th term of the arithmetic progression is {nth_term}\")"
   ]
  },
  {
   "cell_type": "code",
   "execution_count": 14,
   "id": "4a85d7f4-83e4-4dfb-92f3-eafcff16dbfc",
   "metadata": {},
   "outputs": [
    {
     "name": "stdin",
     "output_type": "stream",
     "text": [
      "Enter the initial number (a): 100\n",
      "Enter the common ratio (r): 1000\n",
      "Enter the number of terms (n): 5\n"
     ]
    },
    {
     "name": "stdout",
     "output_type": "stream",
     "text": [
      "The geometric progression sequence is: [100.0, 100000.0, 100000000.0, 100000000000.0, 100000000000000.0]\n"
     ]
    }
   ],
   "source": [
    "def generate_gp_sequence(a, r, n):\n",
    "    gp_sequence = []\n",
    "    current_term = a\n",
    "    for i in range(n):\n",
    "        gp_sequence.append(current_term)\n",
    "        current_term *= r\n",
    "    return gp_sequence\n",
    "\n",
    "a = float(input(\"Enter the initial number (a):\"))\n",
    "r = float(input(\"Enter the common ratio (r):\"))\n",
    "n = int(input(\"Enter the number of terms (n):\"))\n",
    "\n",
    "gp_sequence = generate_gp_sequence(a, r, n)\n",
    "print(\"The geometric progression sequence is:\", gp_sequence)\n"
   ]
  },
  {
   "cell_type": "code",
   "execution_count": 15,
   "id": "9435ca91-2d23-4e68-bf76-d16f3df23e92",
   "metadata": {},
   "outputs": [
    {
     "name": "stdin",
     "output_type": "stream",
     "text": [
      "Enter a string: Laxman Maharjan\n"
     ]
    },
    {
     "name": "stdout",
     "output_type": "stream",
     "text": [
      "Lowercase letters: 12\n",
      "Uppercase letters: 2\n",
      "Digits: 0\n"
     ]
    }
   ],
   "source": [
    "def count_characters(s):\n",
    "    lowercase_count = 0\n",
    "    uppercase_count = 0\n",
    "    digit_count = 0\n",
    "    \n",
    "    for char in s:\n",
    "        if char.islower():\n",
    "            lowercase_count += 1\n",
    "        elif char.isupper():\n",
    "            uppercase_count += 1\n",
    "        elif char.isdigit():\n",
    "            digit_count += 1\n",
    "            \n",
    "    return lowercase_count, uppercase_count, digit_count\n",
    "\n",
    "input_string = input(\"Enter a string:\")\n",
    "\n",
    "lowercase_count, uppercase_count, digit_count = count_characters(input_string)\n",
    "\n",
    "print(f\"Lowercase letters: {lowercase_count}\")\n",
    "print(f\"Uppercase letters: {uppercase_count}\")\n",
    "print(f\"Digits: {digit_count}\")"
   ]
  },
  {
   "cell_type": "code",
   "execution_count": 16,
   "id": "687f5d9b-090c-42b3-b19d-28a03ca6a689",
   "metadata": {},
   "outputs": [
    {
     "name": "stdin",
     "output_type": "stream",
     "text": [
      "Enter a string: A man a plan a canal Panama\n"
     ]
    },
    {
     "name": "stdout",
     "output_type": "stream",
     "text": [
      "Yes, it is a palindrome.\n"
     ]
    }
   ],
   "source": [
    "def is_palindrome(s):\n",
    "    # Remove any spaces and convert the string to lowercase\n",
    "    s = s.replace(\" \", \"\").lower()\n",
    "    # Check if the string is equal to its reverse\n",
    "    return s == s[::-1]\n",
    "\n",
    "input_string = input(\"Enter a string:\")\n",
    "\n",
    "if is_palindrome(input_string):\n",
    "    print(\"Yes, it is a palindrome.\")\n",
    "else:\n",
    "    print(\"No, it is not a palindrome.\")"
   ]
  },
  {
   "cell_type": "code",
   "execution_count": 17,
   "id": "fead2c35-8199-459b-a4df-f49039ed9aec",
   "metadata": {},
   "outputs": [
    {
     "name": "stdin",
     "output_type": "stream",
     "text": [
      "Enter a sequence of numbers separated by spaces: 5 10 55 89 2 4 56 69 23 100 0 444 36 25\n"
     ]
    },
    {
     "name": "stdout",
     "output_type": "stream",
     "text": [
      "The sorted sequence is: 0, 2, 4, 5, 10, 23, 25, 36, 55, 56, 69, 89, 100, 444\n"
     ]
    }
   ],
   "source": [
    "def sort_numbers(sequence):\n",
    "    # Split the input string into a list of numbers\n",
    "    numbers = list(map(int, sequence.split()))\n",
    "    # Sort the list of numbers\n",
    "    numbers.sort()\n",
    "    # Join the sorted numbers into a string separated by commas\n",
    "    sorted_numbers = \", \".join(map(str, numbers))\n",
    "    return sorted_numbers\n",
    "\n",
    "input_sequence = input(\"Enter a sequence of numbers separated by spaces:\")\n",
    "\n",
    "sorted_sequence = sort_numbers(input_sequence)\n",
    "print(\"The sorted sequence is:\", sorted_sequence)"
   ]
  },
  {
   "cell_type": "code",
   "execution_count": 18,
   "id": "e1990fe1-9785-4526-9554-df16287028f0",
   "metadata": {},
   "outputs": [
    {
     "name": "stdout",
     "output_type": "stream",
     "text": [
      "Concatenated dictionary: {'A': 10, 'B': 20, 'C': 30, 'D': 40, 'E': 50, 'F': 60}\n"
     ]
    }
   ],
   "source": [
    "def concatenate_dicts(*dicts):\n",
    "    result = {}\n",
    "    for dictionary in dicts:\n",
    "        result.update(dictionary)\n",
    "    return result\n",
    "\n",
    "dict1 = {'A': 10, 'B': 20}\n",
    "dict2 = {'C': 30, 'D': 40}\n",
    "dict3 = {'E': 50, 'F': 60}\n",
    "\n",
    "concatenated_dict = concatenate_dicts(dict1, dict2, dict3)\n",
    "print(\"Concatenated dictionary:\", concatenated_dict)"
   ]
  },
  {
   "cell_type": "code",
   "execution_count": 1,
   "id": "97081368-92b2-46a7-bf02-9b11fd1064e9",
   "metadata": {},
   "outputs": [
    {
     "name": "stdout",
     "output_type": "stream",
     "text": [
      "{'Sam': 78.25, 'Jackson': 85.0, 'Ahree': 83.25, 'Gloria': 84.0, 'Isla': 84.33333333333333, 'Aron': 76.33333333333333, 'Gray': 78.0}\n"
     ]
    }
   ],
   "source": [
    "data = {\n",
    "    'English': {'Sam': 60, 'Jackson': 74, 'Ahree': 85},\n",
    "    'History': {'Gloria': 83, 'Sam': 65, 'Isla': 78, 'Aron': 72, 'Gray': 61},\n",
    "    'Geography': {'Jackson': 92, 'Gloria': 95, 'Isla': 82, 'Aron': 75, 'Ahree': 76},\n",
    "    'Mathematics': {'Sam': 99, 'Gloria': 74, 'Jackson': 89, 'Ahree': 85, 'Gray': 95},\n",
    "    'Science': {'Sam': 89, 'Aron': 82, 'Gray': 78, 'Isla': 93, 'Ahree': 87}\n",
    "}\n",
    "\n",
    "# Dictionary to store the total marks and count of subjects for each student\n",
    "student_totals = {}\n",
    "\n",
    "# Iterate through each subject and their scores\n",
    "for subject, scores in data.items():\n",
    "    for student, mark in scores.items():\n",
    "        if student in student_totals:\n",
    "            student_totals[student]['total'] += mark\n",
    "            student_totals[student]['count'] += 1\n",
    "        else:\n",
    "            student_totals[student] = {'total': mark, 'count': 1}\n",
    "\n",
    "# Dictionary to store the average marks for each student\n",
    "student_averages = {student: total['total'] / total['count'] for student, total in student_totals.items()}\n",
    "\n",
    "# Print the dictionary with student names and their average marks\n",
    "print(student_averages)"
   ]
  },
  {
   "cell_type": "code",
   "execution_count": 2,
   "id": "c605d5ef-d4e7-4599-a380-0c34d5e82d7c",
   "metadata": {},
   "outputs": [
    {
     "name": "stdout",
     "output_type": "stream",
     "text": [
      "First 2 rows of the DataFrame:\n",
      "     Name  Class  Age\n",
      "0  Sameer     11   17\n",
      "1   Leona     11   17\n",
      "\n",
      "Last 2 rows of the DataFrame:\n",
      "      Name  Class  Age\n",
      "4     Gray     11   21\n",
      "5  Sylphia     12   23\n"
     ]
    }
   ],
   "source": [
    "import pandas as pd\n",
    "\n",
    "data = {\n",
    "    'Name': ['Sameer', 'Leona', 'Samuel', 'Jackson', 'Gray', 'Sylphia'],\n",
    "    'Class': [11, 11, 12, 12, 11, 12],\n",
    "    'Age': [17, 17, 18, 19, 21, 23]\n",
    "}\n",
    "\n",
    "# Convert the dictionary to a DataFrame\n",
    "df = pd.DataFrame(data)\n",
    "\n",
    "# Print the first 2 rows of the DataFrame\n",
    "print(\"First 2 rows of the DataFrame:\")\n",
    "print(df.head(2))\n",
    "\n",
    "# Print the last 2 rows of the DataFrame\n",
    "print(\"\\nLast 2 rows of the DataFrame:\")\n",
    "print(df.tail(2))"
   ]
  },
  {
   "cell_type": "code",
   "execution_count": 8,
   "id": "6cf45b55-b83b-4726-8ad6-a7e6accaca08",
   "metadata": {},
   "outputs": [
    {
     "name": "stdout",
     "output_type": "stream",
     "text": [
      "Credited 50. New balance is 150.\n",
      "Debited 30. New balance is 120.\n",
      "Insufficient funds to debit.\n",
      "Invalid amount to credit.\n",
      "Invalid amount to debit.\n"
     ]
    }
   ],
   "source": [
    "class BankAccount:\n",
    "    def __init__(self, initial_balance=0):\n",
    "        self.balance = initial_balance\n",
    "\n",
    "    def credit(self, amount):\n",
    "        if amount > 0:\n",
    "            self.balance += amount\n",
    "            print(f\"Credited {amount}. New balance is {self.balance}.\")\n",
    "        else:\n",
    "            print(\"Invalid amount to credit.\")\n",
    "\n",
    "    def debit(self, amount):\n",
    "        if amount > 0 and amount <= self.balance:\n",
    "            self.balance -= amount\n",
    "            print(f\"Debited {amount}. New balance is {self.balance}.\")\n",
    "        elif amount > self.balance:\n",
    "            print(\"Insufficient funds to debit.\")\n",
    "        else:\n",
    "            print(\"Invalid amount to debit.\")\n",
    "\n",
    "account = BankAccount(100)  # Initial balance of 100\n",
    "\n",
    "account.credit(50)  # Crediting 50\n",
    "account.debit(30)   # Debiting 30\n",
    "account.debit(150)  # Attempting to debit more than the current balance\n",
    "account.credit(-20) # Attempting to credit a negative amount\n",
    "account.debit(-10)  # Attempting to debit a negative amount"
   ]
  },
  {
   "cell_type": "code",
   "execution_count": 4,
   "id": "9fc4e933-cdeb-4864-b0f5-3691a4b89cf5",
   "metadata": {},
   "outputs": [
    {
     "name": "stdin",
     "output_type": "stream",
     "text": [
      "Enter the first date (YYYY-MM-DD): 1997-10-05\n",
      "Enter the second date (YYYY-MM-DD): 2024-05-19\n"
     ]
    },
    {
     "name": "stdout",
     "output_type": "stream",
     "text": [
      "The difference between 1997-10-05 and 2024-05-19 is 9723 days.\n"
     ]
    }
   ],
   "source": [
    "from datetime import datetime\n",
    "\n",
    "def date_difference(date1, date2):\n",
    "    # Convert strings to datetime objects\n",
    "    date_format = \"%Y-%m-%d\"\n",
    "    d1 = datetime.strptime(date1, date_format)\n",
    "    d2 = datetime.strptime(date2, date_format)\n",
    "    \n",
    "    difference = abs(d1 - d2)\n",
    "    return difference\n",
    "\n",
    "date1 = input(\"Enter the first date (YYYY-MM-DD):\")\n",
    "date2 = input(\"Enter the second date (YYYY-MM-DD):\")\n",
    "\n",
    "difference = date_difference(date1, date2)\n",
    "print(f\"The difference between {date1} and {date2} is {difference.days} days.\")"
   ]
  },
  {
   "cell_type": "code",
   "execution_count": 5,
   "id": "3f7db539-52a0-445d-b29c-48a9a98b9b61",
   "metadata": {},
   "outputs": [
    {
     "name": "stdin",
     "output_type": "stream",
     "text": [
      "Enter an email ID to verify: laxman@gmail.com\n"
     ]
    },
    {
     "name": "stdout",
     "output_type": "stream",
     "text": [
      "The email ID is valid.\n"
     ]
    }
   ],
   "source": [
    "import re\n",
    "\n",
    "def is_valid_email(email):\n",
    "    # Define the regular expression for a valid email\n",
    "    email_regex = r'^[a-zA-Z0-9._%+-]+@[a-zA-Z0-9.-]+\\.[a-zA-Z]{2,}$'\n",
    "    \n",
    "    # Use re.match to check if the email matches the pattern\n",
    "    if re.match(email_regex, email):\n",
    "        return True\n",
    "    else:\n",
    "        return False\n",
    "\n",
    "email = input(\"Enter an email ID to verify:\")\n",
    "\n",
    "if is_valid_email(email):\n",
    "    print(\"The email ID is valid.\")\n",
    "else:\n",
    "    print(\"The email ID is not valid.\")"
   ]
  },
  {
   "cell_type": "code",
   "execution_count": 6,
   "id": "58b19961-59c8-4103-b32b-c12b2b7b599f",
   "metadata": {},
   "outputs": [
    {
     "name": "stdin",
     "output_type": "stream",
     "text": [
      "Enter the numerator: 10\n",
      "Enter the denominator: 5\n"
     ]
    },
    {
     "name": "stdout",
     "output_type": "stream",
     "text": [
      "The result of the division is: 2.0\n"
     ]
    }
   ],
   "source": [
    "def divide_numbers():\n",
    "    try:\n",
    "        numerator = float(input(\"Enter the numerator:\"))\n",
    "        denominator = float(input(\"Enter the denominator:\"))\n",
    "        \n",
    "        result = numerator / denominator\n",
    "        \n",
    "    except ZeroDivisionError:\n",
    "        print(\"Error: Division by zero is not allowed.\")\n",
    "    except ValueError:\n",
    "        print(\"Error: Invalid input. Please enter numeric values.\")\n",
    "    else:\n",
    "        print(f\"The result of the division is: {result}\")\n",
    "\n",
    "divide_numbers()"
   ]
  },
  {
   "cell_type": "code",
   "execution_count": 7,
   "id": "d09cc50a-0860-49ec-9b52-8c699e4d0d1d",
   "metadata": {},
   "outputs": [
    {
     "name": "stdout",
     "output_type": "stream",
     "text": [
      "The result of matrix multiplication is:\n",
      "[[ 58  64]\n",
      " [139 154]]\n"
     ]
    }
   ],
   "source": [
    "import numpy as np\n",
    "\n",
    "def multiply_matrices(matrix1, matrix2):\n",
    "    # Convert lists to NumPy arrays\n",
    "    array1 = np.array(matrix1)\n",
    "    array2 = np.array(matrix2)\n",
    "    \n",
    "    # Perform matrix multiplication\n",
    "    result = np.dot(array1, array2)\n",
    "    \n",
    "    return result\n",
    "\n",
    "matrix1 = [\n",
    "    [1, 2, 3],\n",
    "    [4, 5, 6]\n",
    "]\n",
    "\n",
    "matrix2 = [\n",
    "    [7, 8],\n",
    "    [9, 10],\n",
    "    [11, 12]\n",
    "]\n",
    "\n",
    "result_matrix = multiply_matrices(matrix1, matrix2)\n",
    "print(\"The result of matrix multiplication is:\")\n",
    "print(result_matrix)"
   ]
  },
  {
   "cell_type": "code",
   "execution_count": null,
   "id": "50dfb913-3446-47e0-a3e9-54e06587c97d",
   "metadata": {},
   "outputs": [],
   "source": []
  }
 ],
 "metadata": {
  "kernelspec": {
   "display_name": "Python 3 (ipykernel)",
   "language": "python",
   "name": "python3"
  },
  "language_info": {
   "codemirror_mode": {
    "name": "ipython",
    "version": 3
   },
   "file_extension": ".py",
   "mimetype": "text/x-python",
   "name": "python",
   "nbconvert_exporter": "python",
   "pygments_lexer": "ipython3",
   "version": "3.11.7"
  }
 },
 "nbformat": 4,
 "nbformat_minor": 5
}
