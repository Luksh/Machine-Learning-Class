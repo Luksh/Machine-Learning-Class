{
 "cells": [
  {
   "cell_type": "markdown",
   "id": "1961351a-68e6-4e46-8d88-c4d2ea5b174f",
   "metadata": {},
   "source": [
    "\n",
    "**Print Statements:**\n",
    "\n",
    "1. Write a Python program that prints your name to the console.\n",
    "2. Create a Python script that takes two numbers as input from the user and prints their sum.\n",
    "3. Modify the script from question 2 to print the result with two decimal places.\n",
    "4. Write a Python program that prints the first 10 Fibonacci numbers.\n",
    "5. Create a Python script that prints a multiplication table for a given number up to 10.\n",
    "6. Write a Python program that prints a countdown from 10 to 1, each number on a new line.\n",
    "7. Modify the countdown program to print the numbers separated by a comma and a space.\n",
    "8. Write a Python script that reads a text file and prints its contents to the console.\n",
    "9. Create a Python program that prints a pattern of stars like a triangle.\n",
    "10. Write a Python script that prints the current date and time.\n",
    "\n",
    "**Data Types:**\n",
    "\n",
    "**Numbers:**\n",
    "\n",
    "11. Write a Python program to calculate the area of a circle with a given radius.\n",
    "12. Create a Python script that takes two numbers as input and prints the result of their division.\n",
    "13. Write a program that calculates the factorial of a given number and prints the result.\n",
    "14. Create a Python script that converts temperature from Celsius to Fahrenheit.\n",
    "15. Write a Python program that generates a random number between 1 and 100 and prints it.\n",
    "\n",
    "**Strings:**\n",
    "\n",
    "16. Write a Python program to reverse a given string and print the result.\n",
    "17. Create a program that checks if a given string is a palindrome and prints the result.\n",
    "18. Write a Python script that counts the number of words in a given string.\n",
    "19. Create a program that takes a sentence as input and prints the words in reverse order.\n",
    "20. Write a Python program that converts a string to lowercase and prints the result.\n",
    "\n",
    "**Lists:**\n",
    "\n",
    "21. Write a Python program to find the largest and smallest elements in a given list and print them.\n",
    "22. Create a program that takes a list of numbers as input and prints the sum of all the elements.\n",
    "23. Write a Python script that removes all negative numbers from a given list and prints the modified list.\n",
    "24. Create a program that sorts a list of integers in ascending order and prints the result.\n",
    "25. Write a Python program that takes two lists and prints True if they have at least one common element, otherwise False.\n",
    "\n",
    "**Dictionaries:**\n",
    "\n",
    "26. Write a Python program that takes a dictionary as input and prints all its keys.\n",
    "27. Create a program that takes a dictionary and prints the sum of all its values.\n",
    "28. Write a Python script that checks if a given key exists in a dictionary and prints the result.\n",
    "29. Create a program that takes two dictionaries and merges them into one, then prints the result.\n",
    "30. Write a Python program that prints the dictionary in sorted order based on its keys.\n"
   ]
  },
  {
   "cell_type": "code",
   "execution_count": 1,
   "id": "a86f45eb-4953-4516-911c-c03bfcafeeb0",
   "metadata": {},
   "outputs": [
    {
     "name": "stdout",
     "output_type": "stream",
     "text": [
      "My name is Siddhant.\n"
     ]
    }
   ],
   "source": [
    "# Write a Python program that prints your name to the console.\n",
    "print(\"My name is Siddhant.\")"
   ]
  },
  {
   "cell_type": "code",
   "execution_count": 2,
   "id": "57cfc6b4-225e-454f-bbd9-ab32b4b750a0",
   "metadata": {},
   "outputs": [
    {
     "name": "stdin",
     "output_type": "stream",
     "text": [
      "Enter first number:  10\n",
      "Enter second number:  20\n"
     ]
    },
    {
     "name": "stdout",
     "output_type": "stream",
     "text": [
      "Sum: 30.0\n"
     ]
    }
   ],
   "source": [
    "# Create a Python script that takes two numbers as input from the user and prints their sum.\n",
    "num1 = float(input(\"Enter first number: \"))\n",
    "num2 = float(input(\"Enter second number: \"))\n",
    "print(\"Sum:\", num1 + num2)\n"
   ]
  },
  {
   "cell_type": "code",
   "execution_count": 3,
   "id": "ac68c004-6191-4119-8c34-c582b5a42fc9",
   "metadata": {},
   "outputs": [
    {
     "name": "stdin",
     "output_type": "stream",
     "text": [
      "Enter first number:  20\n",
      "Enter second number:  40\n"
     ]
    },
    {
     "name": "stdout",
     "output_type": "stream",
     "text": [
      "Sum: 60.00\n"
     ]
    }
   ],
   "source": [
    "# Modify the script from question 2 to print the result with two decimal places.\n",
    "num1 = float(input(\"Enter first number: \"))\n",
    "num2 = float(input(\"Enter second number: \"))\n",
    "print(\"Sum: {:.2f}\".format(num1 + num2))"
   ]
  },
  {
   "cell_type": "code",
   "execution_count": 4,
   "id": "c4ff7560-ee58-4063-9b54-7b532c1c9835",
   "metadata": {},
   "outputs": [
    {
     "name": "stdout",
     "output_type": "stream",
     "text": [
      "0\n",
      "1\n",
      "1\n",
      "2\n",
      "3\n",
      "5\n",
      "8\n",
      "13\n",
      "21\n",
      "34\n"
     ]
    }
   ],
   "source": [
    "# Write a Python program that prints the first 10 Fibonacci numbers.\n",
    "a, b = 0, 1\n",
    "for _ in range(10):\n",
    "    print(a)\n",
    "    a, b = b, a + b\n"
   ]
  },
  {
   "cell_type": "code",
   "execution_count": 5,
   "id": "3465eb4f-8759-4f44-bc45-fa5400038b4d",
   "metadata": {},
   "outputs": [
    {
     "name": "stdin",
     "output_type": "stream",
     "text": [
      "Enter a number:  5\n"
     ]
    },
    {
     "name": "stdout",
     "output_type": "stream",
     "text": [
      "5 x 1 = 5\n",
      "5 x 2 = 10\n",
      "5 x 3 = 15\n",
      "5 x 4 = 20\n",
      "5 x 5 = 25\n",
      "5 x 6 = 30\n",
      "5 x 7 = 35\n",
      "5 x 8 = 40\n",
      "5 x 9 = 45\n",
      "5 x 10 = 50\n"
     ]
    }
   ],
   "source": [
    "# Create a Python script that prints a multiplication table for a given number up to 10.\n",
    "num = int(input(\"Enter a number: \"))\n",
    "for i in range(1, 11):\n",
    "    print(num, \"x\", i, \"=\", num * i)\n"
   ]
  },
  {
   "cell_type": "code",
   "execution_count": 6,
   "id": "ee9677dc-cca3-47f6-bed5-bf9858dfaad7",
   "metadata": {},
   "outputs": [
    {
     "name": "stdout",
     "output_type": "stream",
     "text": [
      "10\n",
      "9\n",
      "8\n",
      "7\n",
      "6\n",
      "5\n",
      "4\n",
      "3\n",
      "2\n",
      "1\n"
     ]
    }
   ],
   "source": [
    "# Write a Python program that prints a countdown from 10 to 1, each number on a new line.\n",
    "for i in range(10, 0, -1):\n",
    "    print(i)\n"
   ]
  },
  {
   "cell_type": "code",
   "execution_count": 7,
   "id": "0ce61cee-5669-4cb2-baf6-38eac5c52e6d",
   "metadata": {},
   "outputs": [
    {
     "name": "stdout",
     "output_type": "stream",
     "text": [
      "10, 9, 8, 7, 6, 5, 4, 3, 2, 1, "
     ]
    }
   ],
   "source": [
    "# Modify the countdown program to print the numbers separated by a comma and a space.\n",
    "for i in range(10, 0, -1):\n",
    "    print(i, end=\", \")\n"
   ]
  },
  {
   "cell_type": "code",
   "execution_count": 10,
   "id": "145b933c-7322-4e25-a841-a1b05d3148f7",
   "metadata": {},
   "outputs": [
    {
     "name": "stdout",
     "output_type": "stream",
     "text": [
      "Hello World!\n",
      "\n"
     ]
    }
   ],
   "source": [
    "# Write a Python script that reads a text file and prints its contents to the console.\n",
    "with open(\"apple.txt\", \"r\") as file:\n",
    "    print(file.read())\n"
   ]
  },
  {
   "cell_type": "code",
   "execution_count": 11,
   "id": "e6616879-3638-4cd4-91f4-d5f3cc9e4d7e",
   "metadata": {},
   "outputs": [
    {
     "name": "stdout",
     "output_type": "stream",
     "text": [
      "*\n",
      "**\n",
      "***\n",
      "****\n",
      "*****\n"
     ]
    }
   ],
   "source": [
    "# Create a Python program that prints a pattern of stars like a triangle.\n",
    "for i in range(1, 6):\n",
    "    print(\"*\" * i)\n"
   ]
  },
  {
   "cell_type": "code",
   "execution_count": 13,
   "id": "4b5780e5-b882-429a-acc0-839d06a9a07a",
   "metadata": {},
   "outputs": [
    {
     "name": "stdout",
     "output_type": "stream",
     "text": [
      "Current date and time: 2024-05-10 11:52:10.702476\n"
     ]
    }
   ],
   "source": [
    "# Write a Python script that prints the current date and time.\n",
    "import datetime\n",
    "print(\"Current date and time:\", datetime.datetime.now())\n"
   ]
  },
  {
   "cell_type": "code",
   "execution_count": 14,
   "id": "31ecb8cb-ae51-40f8-80ff-c4316e12bbe9",
   "metadata": {},
   "outputs": [
    {
     "name": "stdin",
     "output_type": "stream",
     "text": [
      "Enter the radius of the circle:  5\n"
     ]
    },
    {
     "name": "stdout",
     "output_type": "stream",
     "text": [
      "Area of the circle: 78.53981633974483\n"
     ]
    }
   ],
   "source": [
    "# Write a Python program to calculate the area of a circle with a given radius.\n",
    "import math\n",
    "radius = float(input(\"Enter the radius of the circle: \"))\n",
    "area = math.pi * radius ** 2\n",
    "print(\"Area of the circle:\", area)\n"
   ]
  },
  {
   "cell_type": "code",
   "execution_count": 15,
   "id": "fecb9786-e31b-48f8-99ca-ad94b6aad832",
   "metadata": {},
   "outputs": [
    {
     "name": "stdin",
     "output_type": "stream",
     "text": [
      "Enter first number:  20\n",
      "Enter second number:  30\n"
     ]
    },
    {
     "name": "stdout",
     "output_type": "stream",
     "text": [
      "Division: 0.6666666666666666\n"
     ]
    }
   ],
   "source": [
    "# Create a Python script that takes two numbers as input and prints the result of their division.\n",
    "num1 = float(input(\"Enter first number: \"))\n",
    "num2 = float(input(\"Enter second number: \"))\n",
    "print(\"Division:\", num1 / num2)\n"
   ]
  },
  {
   "cell_type": "code",
   "execution_count": 16,
   "id": "ebcf3621-956e-454e-8762-2083e834dddd",
   "metadata": {},
   "outputs": [
    {
     "name": "stdin",
     "output_type": "stream",
     "text": [
      "Enter a number:  10\n"
     ]
    },
    {
     "name": "stdout",
     "output_type": "stream",
     "text": [
      "Factorial of 10 is 3628800\n"
     ]
    }
   ],
   "source": [
    "# 13. Write a program that calculates the factorial of a given number and prints the result.\n",
    "num = int(input(\"Enter a number: \"))\n",
    "factorial = 1\n",
    "for i in range(1, num + 1):\n",
    "    factorial *= i\n",
    "print(\"Factorial of\", num, \"is\", factorial)\n"
   ]
  },
  {
   "cell_type": "code",
   "execution_count": 18,
   "id": "8a02219b-f507-4d54-94ec-4f53a75892f0",
   "metadata": {},
   "outputs": [
    {
     "name": "stdin",
     "output_type": "stream",
     "text": [
      "Enter temperature in Celsius:  37\n"
     ]
    },
    {
     "name": "stdout",
     "output_type": "stream",
     "text": [
      "Temperature in Fahrenheit: 98.6\n"
     ]
    }
   ],
   "source": [
    "# 14. Create a Python script that converts temperature from Celsius to Fahrenheit.\n",
    "celsius = float(input(\"Enter temperature in Celsius: \"))\n",
    "fahrenheit = (celsius * 9/5) + 32\n",
    "print(\"Temperature in Fahrenheit:\", fahrenheit)\n"
   ]
  },
  {
   "cell_type": "code",
   "execution_count": 19,
   "id": "b7c6a58d-901c-4f59-842c-ac05d2bef994",
   "metadata": {},
   "outputs": [
    {
     "name": "stdout",
     "output_type": "stream",
     "text": [
      "Random number: 35\n"
     ]
    }
   ],
   "source": [
    "# 15. Write a Python program that generates a random number between 1 and 100 and prints it.\n",
    "import random\n",
    "print(\"Random number:\", random.randint(1, 100))\n"
   ]
  },
  {
   "cell_type": "code",
   "execution_count": 20,
   "id": "fd37aeca-cf74-408a-a7d9-d0a79266b864",
   "metadata": {},
   "outputs": [
    {
     "name": "stdin",
     "output_type": "stream",
     "text": [
      "Enter a string:  Apple\n"
     ]
    },
    {
     "name": "stdout",
     "output_type": "stream",
     "text": [
      "Reversed string: elppA\n"
     ]
    }
   ],
   "source": [
    "# 16. Write a Python program to reverse a given string and print the result.\n",
    "string = input(\"Enter a string: \")\n",
    "print(\"Reversed string:\", string[::-1])\n"
   ]
  },
  {
   "cell_type": "code",
   "execution_count": 22,
   "id": "64634073-c08e-4c49-b344-bd529dd2dcf8",
   "metadata": {},
   "outputs": [
    {
     "name": "stdin",
     "output_type": "stream",
     "text": [
      "Enter a string:  RAR\n"
     ]
    },
    {
     "name": "stdout",
     "output_type": "stream",
     "text": [
      "Palindrome\n"
     ]
    }
   ],
   "source": [
    "# 17. Create a program that checks if a given string is a palindrome and prints the result.\n",
    "string = input(\"Enter a string: \")\n",
    "if string == string[::-1]:\n",
    "    print(\"Palindrome\")\n",
    "else:\n",
    "    print(\"Not a palindrome\")\n"
   ]
  },
  {
   "cell_type": "code",
   "execution_count": 25,
   "id": "afe65a90-fc35-4311-bb12-18aa0e67f6ec",
   "metadata": {},
   "outputs": [
    {
     "name": "stdin",
     "output_type": "stream",
     "text": [
      "Enter a sentence:  Hello I'm learning Python!!!\n"
     ]
    },
    {
     "name": "stdout",
     "output_type": "stream",
     "text": [
      "Number of words: 4\n"
     ]
    }
   ],
   "source": [
    "# 18. Write a Python script that counts the number of words in a given string.\n",
    "sentence = input(\"Enter a sentence: \")\n",
    "words = sentence.split()\n",
    "print(\"Number of words:\", len(words))\n"
   ]
  },
  {
   "cell_type": "code",
   "execution_count": 27,
   "id": "2e4e5fd8-1860-4aac-bc33-28aa4c1e192a",
   "metadata": {},
   "outputs": [
    {
     "name": "stdin",
     "output_type": "stream",
     "text": [
      "Enter a sentence:  Hello World\n"
     ]
    },
    {
     "name": "stdout",
     "output_type": "stream",
     "text": [
      "Reversed words: World Hello\n"
     ]
    }
   ],
   "source": [
    "# 19. Create a program that takes a sentence as input and prints the words in reverse order.\n",
    "sentence = input(\"Enter a sentence: \")\n",
    "words = sentence.split()\n",
    "print(\"Reversed words:\", \" \".join(words[::-1]))\n"
   ]
  },
  {
   "cell_type": "code",
   "execution_count": 28,
   "id": "7e7753d1-fddf-44ec-8dae-ad2df58ade7b",
   "metadata": {},
   "outputs": [
    {
     "name": "stdin",
     "output_type": "stream",
     "text": [
      "Enter a string:  PYtHoN\n"
     ]
    },
    {
     "name": "stdout",
     "output_type": "stream",
     "text": [
      "Lowercase: python\n"
     ]
    }
   ],
   "source": [
    "# 20. Write a Python program that converts a string to lowercase and prints the result.\n",
    "string = input(\"Enter a string: \")\n",
    "print(\"Lowercase:\", string.lower())\n"
   ]
  },
  {
   "cell_type": "code",
   "execution_count": 29,
   "id": "02706e8f-b87a-4d53-814c-ba06440bb89e",
   "metadata": {},
   "outputs": [
    {
     "name": "stdout",
     "output_type": "stream",
     "text": [
      "Largest number: 20\n",
      "Smallest number: 3\n"
     ]
    }
   ],
   "source": [
    "# 21. Write a Python program to find the largest and smallest elements in a given list and print them.\n",
    "numbers = [10, 5, 20, 3, 15]\n",
    "print(\"Largest number:\", max(numbers))\n",
    "print(\"Smallest number:\", min(numbers))\n"
   ]
  },
  {
   "cell_type": "code",
   "execution_count": 31,
   "id": "af65e90d-e33c-46a2-a564-3bd7f8ee32d2",
   "metadata": {},
   "outputs": [
    {
     "name": "stdin",
     "output_type": "stream",
     "text": [
      "Enter numbers separated by space:  10 20 30 \n"
     ]
    },
    {
     "name": "stdout",
     "output_type": "stream",
     "text": [
      "Sum: 60\n"
     ]
    }
   ],
   "source": [
    "# 22. Create a program that takes a list of numbers as input and prints the sum of all the elements.\n",
    "numbers = [int(x) for x in input(\"Enter numbers separated by space: \").split()]\n",
    "print(\"Sum:\", sum(numbers))\n"
   ]
  },
  {
   "cell_type": "code",
   "execution_count": 32,
   "id": "b0ecc18c-a7a4-4e54-b260-1b967c62d584",
   "metadata": {},
   "outputs": [
    {
     "name": "stdout",
     "output_type": "stream",
     "text": [
      "List without negative numbers: [10, 20, 15]\n"
     ]
    }
   ],
   "source": [
    "# 23. Write a Python script that removes all negative numbers from a given list and prints the modified list.\n",
    "numbers = [10, -5, 20, -3, 15, -8]\n",
    "positive_numbers = [num for num in numbers if num >= 0]\n",
    "print(\"List without negative numbers:\", positive_numbers)\n"
   ]
  },
  {
   "cell_type": "code",
   "execution_count": 33,
   "id": "c7cb0ced-3b52-4e66-a8c1-166dfaf355eb",
   "metadata": {},
   "outputs": [
    {
     "name": "stdout",
     "output_type": "stream",
     "text": [
      "Sorted list: [3, 5, 10, 15, 20]\n"
     ]
    }
   ],
   "source": [
    "# 24. Create a program that sorts a list of integers in ascending order and prints the result.\n",
    "numbers = [10, 5, 20, 3, 15]\n",
    "numbers.sort()\n",
    "print(\"Sorted list:\", numbers)\n"
   ]
  },
  {
   "cell_type": "code",
   "execution_count": 34,
   "id": "620179d7-f17d-4fd4-b31d-7091650358a2",
   "metadata": {},
   "outputs": [
    {
     "name": "stdout",
     "output_type": "stream",
     "text": [
      "Common element exists: True\n"
     ]
    }
   ],
   "source": [
    "# 25. Write a Python program that takes two lists and prints True if they have at least one common element, otherwise False.\n",
    "list1 = [1, 2, 3, 4, 5]\n",
    "list2 = [4, 5, 6, 7, 8]\n",
    "print(\"Common element exists:\", any(x in list1 for x in list2))"
   ]
  },
  {
   "cell_type": "code",
   "execution_count": 35,
   "id": "c10793c0-87a4-43c3-be2d-060d527b4d8c",
   "metadata": {},
   "outputs": [
    {
     "name": "stdout",
     "output_type": "stream",
     "text": [
      "a\n",
      "b\n",
      "c\n"
     ]
    }
   ],
   "source": [
    "# 26. Write a Python program that takes a dictionary as input and prints all its keys.\n",
    "dictionary = {'a': 1, 'b': 2, 'c': 3}\n",
    "for key in dictionary:\n",
    "    print(key)\n"
   ]
  },
  {
   "cell_type": "code",
   "execution_count": 36,
   "id": "070fc223-ac8c-4d94-a37b-c566b05f962f",
   "metadata": {},
   "outputs": [
    {
     "name": "stdout",
     "output_type": "stream",
     "text": [
      "Sum of values: 6\n"
     ]
    }
   ],
   "source": [
    "# 27. Create a program that takes a dictionary and prints the sum of all its values.\n",
    "dictionary = {'a': 1, 'b': 2, 'c': 3}\n",
    "print(\"Sum of values:\", sum(dictionary.values()))\n"
   ]
  },
  {
   "cell_type": "code",
   "execution_count": 37,
   "id": "31bc082c-bb7d-4399-91db-45adeae6faf5",
   "metadata": {},
   "outputs": [
    {
     "name": "stdin",
     "output_type": "stream",
     "text": [
      "Enter key to check:  c\n"
     ]
    },
    {
     "name": "stdout",
     "output_type": "stream",
     "text": [
      "Key exists\n"
     ]
    }
   ],
   "source": [
    "# 28. Write a Python script that checks if a given key exists in a dictionary and prints the result.\n",
    "dictionary = {'a': 1, 'b': 2, 'c': 3}\n",
    "key = input(\"Enter key to check: \")\n",
    "if key in dictionary:\n",
    "    print(\"Key exists\")\n",
    "else:\n",
    "    print(\"Key does not exist\")\n"
   ]
  },
  {
   "cell_type": "code",
   "execution_count": 38,
   "id": "c4bbe2ec-6a5a-4172-a250-eb68c07a10de",
   "metadata": {},
   "outputs": [
    {
     "name": "stdout",
     "output_type": "stream",
     "text": [
      "Merged dictionary: {'a': 1, 'b': 3, 'c': 4}\n"
     ]
    }
   ],
   "source": [
    "# 29. Create a program that takes two dictionaries and merges them into one, then prints the result.\n",
    "dict1 = {'a': 1, 'b': 2}\n",
    "dict2 = {'b': 3, 'c': 4}\n",
    "dict1.update(dict2)\n",
    "print(\"Merged dictionary:\", dict1)\n"
   ]
  },
  {
   "cell_type": "code",
   "execution_count": 39,
   "id": "7a2286d3-8733-4169-b6d0-582e356fcdc7",
   "metadata": {},
   "outputs": [
    {
     "name": "stdout",
     "output_type": "stream",
     "text": [
      "a 1\n",
      "b 2\n",
      "c 3\n"
     ]
    }
   ],
   "source": [
    "# 30. Write a Python program that prints the dictionary in sorted order based on its keys. \n",
    "dictionary = {'b': 2, 'a': 1, 'c': 3}\n",
    "sorted_keys = sorted(dictionary.keys())\n",
    "for key in sorted_keys:\n",
    "    print(key, dictionary[key])\n"
   ]
  },
  {
   "cell_type": "code",
   "execution_count": 40,
   "id": "e4166597-d445-4e93-88d3-5b6bc77d940a",
   "metadata": {},
   "outputs": [
    {
     "name": "stdout",
     "output_type": "stream",
     "text": [
      "This is a sentence. This is another sentence. And another.\n"
     ]
    }
   ],
   "source": [
    "# Here's how you can implement a simple function to convert a string to sentence case:\n",
    "def to_sentence_case(text):\n",
    "    # Split the text into sentences\n",
    "    sentences = text.split('. ')\n",
    "\n",
    "    # Capitalize the first letter of each sentence\n",
    "    for i in range(len(sentences)):\n",
    "        sentences[i] = sentences[i].capitalize()\n",
    "\n",
    "    # Join the sentences back together\n",
    "    return '. '.join(sentences)\n",
    "\n",
    "# Example usage\n",
    "sentence = \"this is a sentence. this is another sentence. and another.\"\n",
    "sentence_case = to_sentence_case(sentence)\n",
    "print(sentence_case)\n"
   ]
  },
  {
   "cell_type": "code",
   "execution_count": null,
   "id": "db542ec8-23a1-4d91-b9b4-4fad4cd0a3fd",
   "metadata": {},
   "outputs": [],
   "source": []
  }
 ],
 "metadata": {
  "kernelspec": {
   "display_name": "Python 3 (ipykernel)",
   "language": "python",
   "name": "python3"
  },
  "language_info": {
   "codemirror_mode": {
    "name": "ipython",
    "version": 3
   },
   "file_extension": ".py",
   "mimetype": "text/x-python",
   "name": "python",
   "nbconvert_exporter": "python",
   "pygments_lexer": "ipython3",
   "version": "3.11.5"
  }
 },
 "nbformat": 4,
 "nbformat_minor": 5
}
