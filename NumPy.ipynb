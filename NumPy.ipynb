{
 "cells": [
  {
   "cell_type": "code",
   "execution_count": 1,
   "id": "d652e131-2165-4691-acc8-5389c28a6122",
   "metadata": {},
   "outputs": [
    {
     "name": "stdout",
     "output_type": "stream",
     "text": [
      "Requirement already satisfied: numpy in c:\\users\\lenovo\\anaconda3\\lib\\site-packages (1.26.4)\n",
      "Note: you may need to restart the kernel to use updated packages.\n"
     ]
    }
   ],
   "source": [
    "pip install numpy"
   ]
  },
  {
   "cell_type": "code",
   "execution_count": 2,
   "id": "637aa434-4e9c-4b5a-aefe-7c43dc7fb5af",
   "metadata": {},
   "outputs": [
    {
     "name": "stdout",
     "output_type": "stream",
     "text": [
      "[ 5 10 15 20 25]\n"
     ]
    }
   ],
   "source": [
    "#Create NumPy array\n",
    "import numpy as np\n",
    "array=np.array([5,10,15,20,25])\n",
    "print(array)"
   ]
  },
  {
   "cell_type": "code",
   "execution_count": 5,
   "id": "c480751d-e318-4371-a0fe-829d30ed9096",
   "metadata": {},
   "outputs": [
    {
     "name": "stdout",
     "output_type": "stream",
     "text": [
      "15.0\n"
     ]
    }
   ],
   "source": [
    "#Array Operating\n",
    "#Average of array\n",
    "average=np.mean(array)\n",
    "print(average)"
   ]
  },
  {
   "cell_type": "code",
   "execution_count": 7,
   "id": "f3c396df-6f42-447c-b120-303bca1f3635",
   "metadata": {},
   "outputs": [
    {
     "name": "stdout",
     "output_type": "stream",
     "text": [
      "[[170 175 180]\n",
      " [185 190 195]\n",
      " [200 205 210]]\n"
     ]
    }
   ],
   "source": [
    "#Multidimensional array\n",
    "height_cm=np.array([[170,175,180],[185,190,195],[200,205,210]])\n",
    "print(height_cm)"
   ]
  },
  {
   "cell_type": "code",
   "execution_count": 9,
   "id": "e8b1449d-5a3a-408d-b4d9-4023b7ed5acd",
   "metadata": {},
   "outputs": [
    {
     "name": "stdout",
     "output_type": "stream",
     "text": [
      "[170 175 180]\n",
      "190\n"
     ]
    }
   ],
   "source": [
    "#Array indexing\n",
    "first_height=height_cm[0]\n",
    "print(first_height)\n",
    "second_height_2=height_cm[1][1]\n",
    "print(second_height_2)"
   ]
  },
  {
   "cell_type": "code",
   "execution_count": 12,
   "id": "cd57188f-fa8b-45c3-af8e-09d905507363",
   "metadata": {},
   "outputs": [
    {
     "name": "stdout",
     "output_type": "stream",
     "text": [
      "[[ 68.  77.  86.]\n",
      " [ 95. 104. 113.]\n",
      " [194. 203. 212.]]\n",
      "[[293.15 298.15 303.15]\n",
      " [308.15 313.15 318.15]\n",
      " [363.15 368.15 373.15]]\n"
     ]
    }
   ],
   "source": [
    "#Convert temperature from °C to °F\n",
    "temperature=np.array([[20,25,30],[35,40,45],[90,95,100]])\n",
    "f=(temperature*9/5)+32\n",
    "print(f)\n",
    "k=temperature+273.15\n",
    "print(k)"
   ]
  },
  {
   "cell_type": "code",
   "execution_count": 15,
   "id": "e3be544c-f937-4f42-a86a-0378d34858fd",
   "metadata": {},
   "outputs": [
    {
     "name": "stdout",
     "output_type": "stream",
     "text": [
      "[[14000 32000]\n",
      " [32000 77000]]\n"
     ]
    }
   ],
   "source": [
    "#Linear algebra\n",
    "sales=np.array([[100,200,300],[400,500,600]])\n",
    "quantity=np.array([[10,20,30],[40,50,60]])\n",
    "revenue=np.dot(sales,quantity.T)\n",
    "print(revenue)"
   ]
  },
  {
   "cell_type": "code",
   "execution_count": 21,
   "id": "5d61165a-e1b8-4ea8-8a3f-5df87d9da8fa",
   "metadata": {},
   "outputs": [
    {
     "name": "stdout",
     "output_type": "stream",
     "text": [
      "Zeros matrix 3x3 is:\n",
      " [[0 0 0]\n",
      " [0 0 0]\n",
      " [0 0 0]]\n",
      "Ones matrix 3x3 is:\n",
      " [[1 1 1]\n",
      " [1 1 1]\n",
      " [1 1 1]]\n",
      "Eye matrix 5x5 is:\n",
      " [[1 0 0 0 0]\n",
      " [0 1 0 0 0]\n",
      " [0 0 1 0 0]\n",
      " [0 0 0 1 0]\n",
      " [0 0 0 0 1]]\n"
     ]
    }
   ],
   "source": [
    "#Zeros and ones in matrix\n",
    "print(\"Zeros matrix 3x3 is:\\n\",np.zeros((3,3),dtype=int))\n",
    "print(\"Ones matrix 3x3 is:\\n\",np.ones((3,3),dtype=int))\n",
    "print(\"Eye matrix 5x5 is:\\n\",np.eye(5,dtype=int))"
   ]
  },
  {
   "cell_type": "code",
   "execution_count": 24,
   "id": "78c1a1d0-1f42-4906-9cd6-be603cd24b55",
   "metadata": {},
   "outputs": [
    {
     "name": "stdout",
     "output_type": "stream",
     "text": [
      "[0 1 2 3 4 5 6 7 8 9]\n",
      "[[1 2 3]\n",
      " [4 5 6]\n",
      " [7 8 9]]\n"
     ]
    }
   ],
   "source": [
    "#Create 1D NumPy array values ranging from 0 to 9\n",
    "array_1D=np.arange(10)\n",
    "print(array_1D)\n",
    "\n",
    "#Create 2D NumPy array with the shape (3,3) containing values from 1 to 9\n",
    "array_2D=np.arange(1,10).reshape(3,3)\n",
    "print(array_2D)"
   ]
  },
  {
   "cell_type": "code",
   "execution_count": 3,
   "id": "88a6c58c-767e-4237-91d6-2e744e404a6a",
   "metadata": {},
   "outputs": [
    {
     "name": "stdout",
     "output_type": "stream",
     "text": [
      "[5 7 9] [3 3 3] [ 4 10 18] [4.  2.5 2. ]\n"
     ]
    }
   ],
   "source": [
    "#Perform element-wise addition, subtraction, multiplication and division in 1D array[1,2,3]\n",
    "array1=np.array([1,2,3])\n",
    "array2=np.array([4,5,6])\n",
    "addition=array1+array2\n",
    "subtraction=array2-array1\n",
    "multiplication=array1*array2\n",
    "division=array2/array1\n",
    "print(addition, subtraction,multiplication,division)"
   ]
  },
  {
   "cell_type": "code",
   "execution_count": null,
   "id": "969731d4-357f-4b72-a328-e25a9b56c50a",
   "metadata": {},
   "outputs": [],
   "source": []
  }
 ],
 "metadata": {
  "kernelspec": {
   "display_name": "Python 3 (ipykernel)",
   "language": "python",
   "name": "python3"
  },
  "language_info": {
   "codemirror_mode": {
    "name": "ipython",
    "version": 3
   },
   "file_extension": ".py",
   "mimetype": "text/x-python",
   "name": "python",
   "nbconvert_exporter": "python",
   "pygments_lexer": "ipython3",
   "version": "3.11.7"
  }
 },
 "nbformat": 4,
 "nbformat_minor": 5
}
