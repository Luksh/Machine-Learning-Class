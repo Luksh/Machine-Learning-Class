{
 "cells": [
  {
   "cell_type": "code",
   "execution_count": 14,
   "id": "9c5257e2-54b0-4d9f-bf53-3526d2d46613",
   "metadata": {},
   "outputs": [
    {
     "name": "stdout",
     "output_type": "stream",
     "text": [
      "Hello Laxman\n"
     ]
    }
   ],
   "source": [
    "#Function with parameters\n",
    "def greet(name):\n",
    "    print(\"Hello\",name)\n",
    "\n",
    "greet(\"Laxman\")"
   ]
  },
  {
   "cell_type": "code",
   "execution_count": 5,
   "id": "a0fcc1cd-a891-41fa-ad1d-337d65ad767c",
   "metadata": {},
   "outputs": [
    {
     "data": {
      "text/plain": [
       "788544"
      ]
     },
     "execution_count": 5,
     "metadata": {},
     "output_type": "execute_result"
    }
   ],
   "source": [
    "def square(num):\n",
    "    return num**2\n",
    "\n",
    "square(888)"
   ]
  },
  {
   "cell_type": "code",
   "execution_count": 7,
   "id": "f7da0cab-aafb-4183-a8ff-fcf5b3741767",
   "metadata": {},
   "outputs": [
    {
     "name": "stdout",
     "output_type": "stream",
     "text": [
      "Laxman\n",
      "Shristi\n"
     ]
    }
   ],
   "source": [
    "#Function with default parameter\n",
    "def greet_with_default(name=\"Laxman\"):\n",
    "    print(name)\n",
    "\n",
    "greet_with_default()\n",
    "greet_with_default(name=\"Shristi\")"
   ]
  },
  {
   "cell_type": "code",
   "execution_count": 12,
   "id": "93ae3efb-caa7-4b55-8bad-b7584d498b4c",
   "metadata": {},
   "outputs": [
    {
     "name": "stdout",
     "output_type": "stream",
     "text": [
      "Minimum 2\n",
      "Maximum 88\n"
     ]
    }
   ],
   "source": [
    "#Function with multiple values\n",
    "def min_max(num):\n",
    "    return min(num),max(num)\n",
    "\n",
    "num=[2,5,88,9,40,10,55]\n",
    "print(\"Minimum\",min(num))\n",
    "print(\"Maximum\",max(num))"
   ]
  },
  {
   "cell_type": "code",
   "execution_count": 13,
   "id": "80268fc2-bf29-4710-a558-ebace5ba6e38",
   "metadata": {},
   "outputs": [
    {
     "name": "stdout",
     "output_type": "stream",
     "text": [
      "Factorial of 5: 120\n"
     ]
    }
   ],
   "source": [
    "#Recursive function to calculate factorial\n",
    "def factorial(n):\n",
    "    if n==0:\n",
    "        return 1\n",
    "    else:\n",
    "        return n*factorial(n-1)\n",
    "\n",
    "print(\"Factorial of 5:\",factorial(5))"
   ]
  },
  {
   "cell_type": "code",
   "execution_count": 19,
   "id": "a4124789-564e-4644-9339-748efa5187ab",
   "metadata": {},
   "outputs": [
    {
     "name": "stdout",
     "output_type": "stream",
     "text": [
      "16\n"
     ]
    }
   ],
   "source": [
    "#Function with variable number of arguments\n",
    "def sum(*arg):\n",
    "    total=0\n",
    "    for num in arg:\n",
    "        total+=num\n",
    "    return total\n",
    "\n",
    "print(sum(1,3,5,7))"
   ]
  },
  {
   "cell_type": "code",
   "execution_count": 21,
   "id": "d0b00d8b-c745-418f-add1-ce7d12c47fe4",
   "metadata": {},
   "outputs": [
    {
     "name": "stdout",
     "output_type": "stream",
     "text": [
      "308025\n"
     ]
    }
   ],
   "source": [
    "#Lambda expression or function\n",
    "square=lambda x:x**2\n",
    "print(square(555))"
   ]
  },
  {
   "cell_type": "code",
   "execution_count": 22,
   "id": "80c06b32-5679-40ff-994f-5d2e8f559335",
   "metadata": {},
   "outputs": [
    {
     "name": "stdout",
     "output_type": "stream",
     "text": [
      "65\n"
     ]
    }
   ],
   "source": [
    "sum=lambda x,y:x+y\n",
    "print(sum(10,55))"
   ]
  },
  {
   "cell_type": "code",
   "execution_count": 23,
   "id": "4de17ed5-500e-49fd-b22d-91835a6df581",
   "metadata": {},
   "outputs": [
    {
     "name": "stdout",
     "output_type": "stream",
     "text": [
      "['Sujen', 'Rijan', 'Sagar', 'Laxman', 'Abishek']\n"
     ]
    }
   ],
   "source": [
    "#Sorting based on the length of the name\n",
    "names=[\"Laxman\",\"Sujen\",\"Rijan\",\"Sagar\",\"Abishek\"]\n",
    "sorted_names=sorted(names,key=lambda name:len(name))\n",
    "print(sorted_names)"
   ]
  },
  {
   "cell_type": "code",
   "execution_count": 24,
   "id": "6cc0806f-5072-44d2-9328-c27a287a003e",
   "metadata": {},
   "outputs": [
    {
     "name": "stdout",
     "output_type": "stream",
     "text": [
      "[10, 20, 30, 40]\n"
     ]
    }
   ],
   "source": [
    "#Find the even numbers in a list\n",
    "numbers=[5,10,15,20,25,30,35,40]\n",
    "even_numbers=list(filter(lambda x:x%2==0,numbers))\n",
    "print(even_numbers)"
   ]
  },
  {
   "cell_type": "code",
   "execution_count": 26,
   "id": "dca68475-8564-4916-b62f-d66289a10a2a",
   "metadata": {},
   "outputs": [
    {
     "name": "stdout",
     "output_type": "stream",
     "text": [
      "[1, 4, 9, 16, 25, 36, 49, 64, 81, 100]\n"
     ]
    }
   ],
   "source": [
    "#Mapping a function to a list using lambda function\n",
    "numbers=[1,2,3,4,5,6,7,8,9,10]\n",
    "squared_list=list(map(lambda x:x**2,numbers))\n",
    "print(squared_list)"
   ]
  },
  {
   "cell_type": "code",
   "execution_count": 31,
   "id": "5d4059b8-1409-4d2e-8978-675120b60a97",
   "metadata": {},
   "outputs": [
    {
     "name": "stdout",
     "output_type": "stream",
     "text": [
      "[1, 4, 9, 16, 25, 36, 49, 64, 81, 100, 121]\n",
      "[1, 4, 9, 16, 25, 36, 49, 64, 81, 100]\n",
      "[5, 47, 55, 66, 69, 89, 100, 555]\n",
      "[555, 100, 89, 69, 66, 55, 47, 5]\n"
     ]
    }
   ],
   "source": [
    "#List methods\n",
    "list=[1, 4, 9, 16, 25, 36, 49, 64, 81, 100]\n",
    "#append\n",
    "list.append(121)\n",
    "print(list)\n",
    "#pop(): Remove and return the last elements from a list\n",
    "list.pop()\n",
    "print(list)\n",
    "#sort\n",
    "new_list=[5,55,47,66,89,69,100,555]\n",
    "new_list.sort()\n",
    "print(new_list)\n",
    "#reverse\n",
    "new_list.reverse()\n",
    "print(new_list)"
   ]
  },
  {
   "cell_type": "code",
   "execution_count": 35,
   "id": "1b32225d-94cf-4ed7-b3b8-9fa729cd126a",
   "metadata": {},
   "outputs": [
    {
     "name": "stdout",
     "output_type": "stream",
     "text": [
      "dict_keys(['Apple', 'Banana', 'Mango'])\n",
      "dict_values([10, 12, 5])\n",
      "dict_items([('Apple', 10), ('Banana', 12), ('Mango', 5)])\n",
      "10\n"
     ]
    }
   ],
   "source": [
    "#Dictionary method\n",
    "dict={\"Apple\":10,\"Banana\":12,\"Mango\":5}\n",
    "#key() returns the view of all keys of a dictionary\n",
    "print(dict.keys())\n",
    "#values() returns the view of all values of a dictionary\n",
    "print(dict.values())\n",
    "#items() returns the view of all key-value pairs of a dictionary\n",
    "print(dict.items())\n",
    "#get() returns the view of specified key or return default values if not found\n",
    "print(dict.get(\"Apple\"))"
   ]
  },
  {
   "cell_type": "code",
   "execution_count": null,
   "id": "42b35fa5-88de-442d-8a6e-307fae4ada19",
   "metadata": {},
   "outputs": [],
   "source": []
  }
 ],
 "metadata": {
  "kernelspec": {
   "display_name": "Python 3 (ipykernel)",
   "language": "python",
   "name": "python3"
  },
  "language_info": {
   "codemirror_mode": {
    "name": "ipython",
    "version": 3
   },
   "file_extension": ".py",
   "mimetype": "text/x-python",
   "name": "python",
   "nbconvert_exporter": "python",
   "pygments_lexer": "ipython3",
   "version": "3.11.7"
  }
 },
 "nbformat": 4,
 "nbformat_minor": 5
}
