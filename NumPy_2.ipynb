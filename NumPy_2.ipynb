{
 "cells": [
  {
   "cell_type": "code",
   "execution_count": 2,
   "id": "3de39bc2-2a2a-4220-8d52-2b4b69d1ab6e",
   "metadata": {},
   "outputs": [
    {
     "name": "stdout",
     "output_type": "stream",
     "text": [
      "41.666666666666664 35.0 29.1070819942883 847.2222222222222\n"
     ]
    }
   ],
   "source": [
    "import numpy as np\n",
    "#Calculate mean, median, standard deviation and variance of 1D array\n",
    "array=np.array([10,20,30,40,50,100])\n",
    "mean=np.mean(array)\n",
    "median=np.median(array)\n",
    "std_dev=np.std(array)\n",
    "variance=np.var(array)\n",
    "print(mean,median,std_dev,variance)"
   ]
  },
  {
   "cell_type": "code",
   "execution_count": 3,
   "id": "7f5779c9-b53f-421e-9683-54cdcbbdd5f4",
   "metadata": {},
   "outputs": [
    {
     "name": "stdout",
     "output_type": "stream",
     "text": [
      "[100 500]\n"
     ]
    }
   ],
   "source": [
    "#Logical operation\n",
    "array=np.array([10,20,30,40,50,100,500])\n",
    "#Return array with elements greater than 70\n",
    "result=array[array>70]\n",
    "print(result)"
   ]
  },
  {
   "cell_type": "code",
   "execution_count": 4,
   "id": "32e23af8-e462-4c35-b22d-60b54f8fc88b",
   "metadata": {},
   "outputs": [
    {
     "name": "stdout",
     "output_type": "stream",
     "text": [
      "[[0.82121513 0.49203594 0.4151147 ]\n",
      " [0.81256756 0.08026887 0.34758784]\n",
      " [0.39005618 0.57817462 0.96426008]]\n"
     ]
    }
   ],
   "source": [
    "matrix=np.random.random((3,3))\n",
    "print(matrix)"
   ]
  },
  {
   "cell_type": "code",
   "execution_count": 7,
   "id": "3cdda716-fb71-44aa-89c1-ce3607badc83",
   "metadata": {},
   "outputs": [
    {
     "name": "stdout",
     "output_type": "stream",
     "text": [
      "[[66 67 76]\n",
      " [92 77 63]\n",
      " [51 91 65]]\n",
      "[[660 670 760]\n",
      " [920 770 630]\n",
      " [510 910 650]]\n"
     ]
    }
   ],
   "source": [
    "#Create an array of 10 random integers between 50 and 100\n",
    "random_int_matrix=np.random.randint(50,100,9).reshape(3,3)\n",
    "print(random_int_matrix)\n",
    "#Multiply matrix by 10\n",
    "result=random_int_matrix*10\n",
    "print(result)"
   ]
  },
  {
   "cell_type": "code",
   "execution_count": 11,
   "id": "de027c8d-a3eb-41e0-87b2-42b4bc8c86d2",
   "metadata": {},
   "outputs": [
    {
     "name": "stdout",
     "output_type": "stream",
     "text": [
      "[10. 20. nan 50. 70. nan]\n",
      "37.5\n"
     ]
    }
   ],
   "source": [
    "#Create an array with some missing values(Nans) and calculate the mean ignoring Nans\n",
    "array_with_missing_values=np.array([10,20,np.nan,50,70,np.nan])\n",
    "print(array_with_missing_values)\n",
    "mean=np.nanmean(array_with_missing_values)\n",
    "print(mean)"
   ]
  },
  {
   "cell_type": "code",
   "execution_count": 16,
   "id": "223794fc-8ebc-48eb-b49d-3a68cf94aeeb",
   "metadata": {},
   "outputs": [
    {
     "name": "stdout",
     "output_type": "stream",
     "text": [
      "[ 0.0000000e+00  1.0000000e+00  1.2246468e-16 -1.0000000e+00\n",
      " -2.4492936e-16]\n"
     ]
    }
   ],
   "source": [
    "#Apply the sine function to each element in an array\n",
    "#[0,pi/2,pi,3*pi/2,2*pi]\n",
    "sine_array=[0,np.pi/2,np.pi,3*np.pi/2,2*np.pi]\n",
    "sine_values=np.sin(sine_array)\n",
    "print(sine_values)"
   ]
  },
  {
   "cell_type": "code",
   "execution_count": 15,
   "id": "ce016823-d446-4d9b-82d4-6f81fc4aef44",
   "metadata": {},
   "outputs": [
    {
     "name": "stdout",
     "output_type": "stream",
     "text": [
      "[ 1  3  5  9 10 19 20 34 66 88]\n"
     ]
    }
   ],
   "source": [
    "#Find the unique elements in an array\n",
    "repeated_values=np.array([1,1,1,10,3,3,3,5,5,66,88,9,19,20,34])\n",
    "unique_values=np.unique(repeated_values)\n",
    "print(unique_values)"
   ]
  },
  {
   "cell_type": "code",
   "execution_count": 17,
   "id": "cfb58b43-c9fd-46de-8ae9-357474418462",
   "metadata": {},
   "outputs": [
    {
     "name": "stdout",
     "output_type": "stream",
     "text": [
      "[   1    2    5   10   50  100  200  350  500 1000]\n"
     ]
    }
   ],
   "source": [
    "#Sorting the array in ascending order\n",
    "unsorted_array=np.array([100,200,50,10,2,5,500,1000,350,1])\n",
    "sorted_array=np.sort(unsorted_array)\n",
    "print(sorted_array)"
   ]
  },
  {
   "cell_type": "code",
   "execution_count": 22,
   "id": "07829377-5b65-44f9-832c-9da1a0009cb1",
   "metadata": {},
   "outputs": [
    {
     "name": "stdout",
     "output_type": "stream",
     "text": [
      "(1,) (2, 3) (4, 9, 7)\n"
     ]
    }
   ],
   "source": [
    "#Find the shape, size and the number of dimension in an array\n",
    "array_1d=np.array([1])\n",
    "array_2d=np.random.random([2,3])\n",
    "array_3d=np.random.random([4,9,7])\n",
    "shape_1d=array_1d.shape\n",
    "shape_2d=array_2d.shape\n",
    "shape_3d=array_3d.shape\n",
    "size_1d=array_1d.size\n",
    "size_2d=array_2d.size\n",
    "size_3d=array_3d.size\n",
    "dimension_1d=array_1d.ndim\n",
    "dimension_2d=array_2d.ndim\n",
    "dimension_3d=array_3d.ndim\n",
    "print(shape_1d,shape_2d,shape_3d)"
   ]
  },
  {
   "cell_type": "code",
   "execution_count": 10,
   "id": "deed9790-5f13-4627-9220-e2b131d5dad7",
   "metadata": {},
   "outputs": [
    {
     "name": "stdin",
     "output_type": "stream",
     "text": [
      "Enter the URL to scrape: https://facebook.com\n"
     ]
    },
    {
     "name": "stdout",
     "output_type": "stream",
     "text": [
      "Connect with friends and the world around you on Facebook.\n"
     ]
    }
   ],
   "source": [
    "#Webscraping\n",
    "import requests\n",
    "from bs4 import BeautifulSoup\n",
    "def scrape_headings(url):\n",
    "    #Send a GET request to the url\n",
    "    response=requests.get(url)\n",
    "    #Parse the html content using BeautifulSoup\n",
    "    soup=BeautifulSoup(response.content,\"html.parser\")\n",
    "    #Find all the headings elements\n",
    "    headings=soup.find_all([\"h1\",\"h2\",\"h3\",\"h4\",\"h5\",\"h6\"])\n",
    "    #Print the text of each heading\n",
    "    for heading in headings:\n",
    "        print(heading.text.strip())\n",
    "\n",
    "input_url=input(\"Enter the URL to scrape:\")\n",
    "scrape_headings(input_url)"
   ]
  },
  {
   "cell_type": "code",
   "execution_count": null,
   "id": "7058b8e2-05bf-4711-ad89-3a042b479d0a",
   "metadata": {},
   "outputs": [],
   "source": []
  }
 ],
 "metadata": {
  "kernelspec": {
   "display_name": "Python 3 (ipykernel)",
   "language": "python",
   "name": "python3"
  },
  "language_info": {
   "codemirror_mode": {
    "name": "ipython",
    "version": 3
   },
   "file_extension": ".py",
   "mimetype": "text/x-python",
   "name": "python",
   "nbconvert_exporter": "python",
   "pygments_lexer": "ipython3",
   "version": "3.11.7"
  }
 },
 "nbformat": 4,
 "nbformat_minor": 5
}
